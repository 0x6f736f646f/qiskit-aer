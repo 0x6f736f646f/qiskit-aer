{
 "cells": [
  {
   "cell_type": "markdown",
   "metadata": {},
   "source": [
    "# Cython C++ QASM Simulator"
   ]
  },
  {
   "cell_type": "markdown",
   "metadata": {},
   "source": [
    "## Using the simulator as a QISKit engine\n",
    "\n",
    "We now import the cython simulator and use it as a qiskit backend"
   ]
  },
  {
   "cell_type": "code",
   "execution_count": 13,
   "metadata": {
    "collapsed": true
   },
   "outputs": [],
   "source": [
    "# Add qiskit development branch to path\n",
    "# Once qiskit 0.6 is released this can use the pip qiskit\n",
    "QISKIT_PATH = '~/git/qiskit-terra/'\n",
    "import sys, os\n",
    "sys.path.append(os.path.expanduser(QISKIT_PATH))"
   ]
  },
  {
   "cell_type": "code",
   "execution_count": 14,
   "metadata": {},
   "outputs": [],
   "source": [
    "import numpy as np\n",
    "import qiskit\n",
    "from qiskit import QuantumCircuit, QuantumRegister, ClassicalRegister\n",
    "\n",
    "# Import Cython QASM Simulator Backend\n",
    "from qiskit_addon_qv import AerQvSimulator\n",
    "\n",
    "# Backends\n",
    "aer = AerQvSimulator()\n",
    "aer.set_max_threads_shot(-1)"
   ]
  },
  {
   "cell_type": "code",
   "execution_count": 15,
   "metadata": {},
   "outputs": [],
   "source": [
    "def random_circuit(num_qubits, num_gates):\n",
    "    qr = qiskit.QuantumRegister(num_qubits)\n",
    "    cr = qiskit.ClassicalRegister(num_qubits)\n",
    "    circ = qiskit.QuantumCircuit(qr, cr)\n",
    "    for j in range(num_gates):\n",
    "        q = np.random.randint(0, num_qubits)\n",
    "        \n",
    "        if num_qubits == 1:\n",
    "            r = np.random.randint(0, 3)\n",
    "        else:\n",
    "            r = np.random.randint(0, 3)\n",
    "        \n",
    "        if r == 0:\n",
    "            circ.h(qr[q])\n",
    "        elif r == 1:\n",
    "            circ.s(qr[q])\n",
    "        elif r == 2:\n",
    "            circ.t(qr[q])\n",
    "        elif r == 3:       \n",
    "            circ.cx(qr[q], qr[(q + 1) % num_qubits])\n",
    "    circ.measure(qr, cr)\n",
    "    return circ"
   ]
  },
  {
   "cell_type": "code",
   "execution_count": 16,
   "metadata": {},
   "outputs": [],
   "source": [
    "circ1 = random_circuit(5, 50)\n",
    "result1 = qiskit.execute(circ1, aer, shots=1000).result()"
   ]
  },
  {
   "cell_type": "code",
   "execution_count": 6,
   "metadata": {},
   "outputs": [
    {
     "data": {
      "text/plain": [
       "{'0x0': 6,\n",
       " '0x10': 10,\n",
       " '0x12': 54,\n",
       " '0x18': 71,\n",
       " '0x1a': 366,\n",
       " '0x2': 62,\n",
       " '0x8': 61,\n",
       " '0xa': 370}"
      ]
     },
     "execution_count": 6,
     "metadata": {},
     "output_type": "execute_result"
    }
   ],
   "source": [
    "result1.get_counts(circ)"
   ]
  },
  {
   "cell_type": "markdown",
   "metadata": {},
   "source": [
    "### Noise simulation\n",
    "\n",
    "Simulation of an amplitude damping channel on single qubit gates"
   ]
  },
  {
   "cell_type": "code",
   "execution_count": 20,
   "metadata": {
    "collapsed": true
   },
   "outputs": [],
   "source": [
    "noise_model = {\n",
    "    \"errors\": [\n",
    "        {\n",
    "            \"type\": \"kraus\",\n",
    "            \"operations\": [\"h\", \"t\"],\n",
    "            \"probabilities\": [1],\n",
    "            \"matrices\": [np.array([[1, 0], [0, 0.5]]),\n",
    "                        np.array([[0, 0.86602540378], [0, 0]])]\n",
    "        }\n",
    "    ]\n",
    "}"
   ]
  },
  {
   "cell_type": "code",
   "execution_count": 21,
   "metadata": {
    "collapsed": true
   },
   "outputs": [],
   "source": [
    "aer.load_noise_model(noise_model)"
   ]
  },
  {
   "cell_type": "code",
   "execution_count": 22,
   "metadata": {},
   "outputs": [
    {
     "data": {
      "text/plain": [
       "{'counts': {'0x0': 2,\n",
       "  '0x13': 2,\n",
       "  '0x17': 9,\n",
       "  '0x1a': 1,\n",
       "  '0x1f': 751,\n",
       "  '0x3': 4,\n",
       "  '0x4': 1,\n",
       "  '0x7': 32,\n",
       "  '0x8': 1,\n",
       "  '0xd': 1,\n",
       "  '0xf': 196}}"
      ]
     },
     "execution_count": 22,
     "metadata": {},
     "output_type": "execute_result"
    }
   ],
   "source": [
    "circ2 = random_circuit(5, 50)\n",
    "result2 = qiskit.execute(circ2, aer, shots=1000).result()\n",
    "result2.get_data(circ2)"
   ]
  },
  {
   "cell_type": "code",
   "execution_count": null,
   "metadata": {
    "collapsed": true
   },
   "outputs": [],
   "source": []
  }
 ],
 "metadata": {
  "kernelspec": {
   "display_name": "Python (qiskit-dev)",
   "language": "python",
   "name": "qiskit-dev"
  },
  "language_info": {
   "codemirror_mode": {
    "name": "ipython",
    "version": 3
   },
   "file_extension": ".py",
   "mimetype": "text/x-python",
   "name": "python",
   "nbconvert_exporter": "python",
   "pygments_lexer": "ipython3",
   "version": "3.6.5"
  }
 },
 "nbformat": 4,
 "nbformat_minor": 2
}
