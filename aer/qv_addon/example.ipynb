{
 "cells": [
  {
   "cell_type": "markdown",
   "metadata": {},
   "source": [
    "# Cython C++ QASM Simulator"
   ]
  },
  {
   "cell_type": "markdown",
   "metadata": {},
   "source": [
    "## Using the simulator as a QISKit engine\n",
    "\n",
    "We now import the cython simulator and use it as a qiskit backend"
   ]
  },
  {
   "cell_type": "code",
   "execution_count": 14,
   "metadata": {
    "collapsed": true
   },
   "outputs": [],
   "source": [
    "# Add qiskit development branch to path\n",
    "# Once qiskit 0.6 is released this can use the pip qiskit\n",
    "QISKIT_PATH = '~/git/qiskit-terra/'\n",
    "import sys, os\n",
    "sys.path.append(os.path.expanduser(QISKIT_PATH))"
   ]
  },
  {
   "cell_type": "code",
   "execution_count": 15,
   "metadata": {
    "collapsed": true
   },
   "outputs": [],
   "source": [
    "import numpy as np\n",
    "import qiskit\n",
    "from qiskit import QuantumCircuit, QuantumRegister, ClassicalRegister\n",
    "\n",
    "# Import Cython QASM Simulator Backend\n",
    "from qiskit_addon_qv import AerQvSimulator\n",
    "\n",
    "# Backends\n",
    "aer = AerQvSimulator()\n",
    "aer.set_max_threads_shot(-1)"
   ]
  },
  {
   "cell_type": "code",
   "execution_count": 16,
   "metadata": {
    "collapsed": true
   },
   "outputs": [],
   "source": [
    "def random_circuit(num_qubits, num_gates):\n",
    "    qr = qiskit.QuantumRegister(num_qubits)\n",
    "    cr = qiskit.ClassicalRegister(num_qubits)\n",
    "    circ = qiskit.QuantumCircuit(qr, cr)\n",
    "    for j in range(num_gates):\n",
    "        q = np.random.randint(0, num_qubits)\n",
    "        \n",
    "        if num_qubits == 1:\n",
    "            r = np.random.randint(0, 3)\n",
    "        else:\n",
    "            r = np.random.randint(0, 3)\n",
    "        \n",
    "        if r == 0:\n",
    "            circ.h(qr[q])\n",
    "        elif r == 1:\n",
    "            circ.s(qr[q])\n",
    "        elif r == 2:\n",
    "            circ.t(qr[q])\n",
    "        elif r == 3:       \n",
    "            circ.cx(qr[q], qr[(q + 1) % num_qubits])\n",
    "    circ.measure(qr, cr)\n",
    "    return circ"
   ]
  },
  {
   "cell_type": "code",
   "execution_count": 17,
   "metadata": {
    "collapsed": true
   },
   "outputs": [],
   "source": [
    "circ1 = random_circuit(5, 50)\n",
    "result1 = qiskit.execute(circ1, aer, shots=1000).result()"
   ]
  },
  {
   "cell_type": "code",
   "execution_count": 18,
   "metadata": {},
   "outputs": [
    {
     "data": {
      "text/plain": [
       "{'0x0': 15,\n",
       " '0x1': 82,\n",
       " '0x10': 3,\n",
       " '0x11': 15,\n",
       " '0x13': 25,\n",
       " '0x14': 2,\n",
       " '0x15': 12,\n",
       " '0x16': 3,\n",
       " '0x17': 17,\n",
       " '0x18': 3,\n",
       " '0x19': 11,\n",
       " '0x1a': 4,\n",
       " '0x1b': 18,\n",
       " '0x1c': 4,\n",
       " '0x1d': 11,\n",
       " '0x1e': 2,\n",
       " '0x1f': 14,\n",
       " '0x2': 15,\n",
       " '0x3': 107,\n",
       " '0x4': 7,\n",
       " '0x5': 96,\n",
       " '0x6': 15,\n",
       " '0x7': 105,\n",
       " '0x8': 15,\n",
       " '0x9': 72,\n",
       " '0xa': 14,\n",
       " '0xb': 95,\n",
       " '0xc': 15,\n",
       " '0xd': 97,\n",
       " '0xe': 14,\n",
       " '0xf': 92}"
      ]
     },
     "execution_count": 18,
     "metadata": {},
     "output_type": "execute_result"
    }
   ],
   "source": [
    "result1.get_counts(circ1)"
   ]
  },
  {
   "cell_type": "markdown",
   "metadata": {},
   "source": [
    "### Noise simulation\n",
    "\n",
    "Simulation of an amplitude damping channel on single qubit gates"
   ]
  },
  {
   "cell_type": "code",
   "execution_count": 19,
   "metadata": {
    "collapsed": true
   },
   "outputs": [],
   "source": [
    "noise_model = {\n",
    "    \"errors\": [\n",
    "        {\n",
    "            \"type\": \"kraus\",\n",
    "            \"operations\": [\"h\", \"t\"],\n",
    "            \"probabilities\": [1],\n",
    "            \"matrices\": [np.array([[1, 0], [0, 0.5]]),\n",
    "                        np.array([[0, 0.86602540378], [0, 0]])]\n",
    "        }\n",
    "    ]\n",
    "}"
   ]
  },
  {
   "cell_type": "code",
   "execution_count": 20,
   "metadata": {
    "collapsed": true
   },
   "outputs": [],
   "source": [
    "aer.load_noise_model(noise_model)"
   ]
  },
  {
   "cell_type": "code",
   "execution_count": 21,
   "metadata": {},
   "outputs": [
    {
     "data": {
      "text/plain": [
       "{'counts': {'0x0': 9,\n",
       "  '0x1': 15,\n",
       "  '0x10': 5,\n",
       "  '0x11': 4,\n",
       "  '0x13': 16,\n",
       "  '0x17': 23,\n",
       "  '0x1b': 1,\n",
       "  '0x1f': 676,\n",
       "  '0x3': 46,\n",
       "  '0x7': 84,\n",
       "  '0xb': 2,\n",
       "  '0xf': 119}}"
      ]
     },
     "execution_count": 21,
     "metadata": {},
     "output_type": "execute_result"
    }
   ],
   "source": [
    "circ2 = random_circuit(5, 50)\n",
    "result2 = qiskit.execute(circ2, aer, shots=1000).result()\n",
    "result2.get_data(circ2)"
   ]
  },
  {
   "cell_type": "code",
   "execution_count": null,
   "metadata": {
    "collapsed": true
   },
   "outputs": [],
   "source": []
  }
 ],
 "metadata": {
  "kernelspec": {
   "display_name": "Python (qiskit-dev)",
   "language": "python",
   "name": "qiskit-dev"
  },
  "language_info": {
   "codemirror_mode": {
    "name": "ipython",
    "version": 3
   },
   "file_extension": ".py",
   "mimetype": "text/x-python",
   "name": "python",
   "nbconvert_exporter": "python",
   "pygments_lexer": "ipython3",
   "version": "3.6.5"
  }
 },
 "nbformat": 4,
 "nbformat_minor": 2
}
