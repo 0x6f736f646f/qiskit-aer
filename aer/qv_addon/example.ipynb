{
 "cells": [
  {
   "cell_type": "markdown",
   "metadata": {},
   "source": [
    "# Cython C++ QASM Simulator"
   ]
  },
  {
   "cell_type": "markdown",
   "metadata": {},
   "source": [
    "## Using the simulator as a QISKit engine\n",
    "\n",
    "We now import the cython simulator and use it as a qiskit backend"
   ]
  },
  {
   "cell_type": "code",
   "execution_count": 21,
   "metadata": {},
   "outputs": [],
   "source": [
    "# Add qiskit development branch to path\n",
    "# Once qiskit 0.6 is released this can use the pip qiskit\n",
    "QISKIT_PATH = '~/git/qiskit-terra/'\n",
    "import sys, os\n",
    "sys.path.append(os.path.expanduser(QISKIT_PATH))"
   ]
  },
  {
   "cell_type": "code",
   "execution_count": 22,
   "metadata": {},
   "outputs": [],
   "source": [
    "import numpy as np\n",
    "import qiskit\n",
    "from qiskit import QuantumCircuit, QuantumRegister, ClassicalRegister\n",
    "\n",
    "# Import Cython QASM Simulator Backend\n",
    "from qiskit_addon_qv import AerQvSimulator\n",
    "\n",
    "# Backends\n",
    "aer = AerQvSimulator()\n",
    "aer.set_max_threads_shot(-1)"
   ]
  },
  {
   "cell_type": "code",
   "execution_count": 23,
   "metadata": {},
   "outputs": [],
   "source": [
    "def ghz_circuit(num_qubits):\n",
    "    qr = qiskit.QuantumRegister(num_qubits)\n",
    "    cr = qiskit.ClassicalRegister(num_qubits)\n",
    "    circ = qiskit.QuantumCircuit(qr, cr)\n",
    "    circ.h(qr[0])\n",
    "    if num_qubits > 1:\n",
    "        for j in range(num_qubits - 1):\n",
    "            circ.cx(qr[j], qr[j + 1])\n",
    "    circ.barrier(qr)\n",
    "    circ.measure(qr, cr)\n",
    "    return circ"
   ]
  },
  {
   "cell_type": "code",
   "execution_count": 29,
   "metadata": {},
   "outputs": [],
   "source": [
    "circ = ghz_circuit(4)\n",
    "qobj = qiskit.compile(circ, aer, shots=1000)\n",
    "result = aer.run(qobj).result()"
   ]
  },
  {
   "cell_type": "code",
   "execution_count": 31,
   "metadata": {},
   "outputs": [
    {
     "data": {
      "text/plain": [
       "{'counts': {'0x0': 524, '0xf': 476}}"
      ]
     },
     "execution_count": 31,
     "metadata": {},
     "output_type": "execute_result"
    }
   ],
   "source": [
    "result.get_data(circ)"
   ]
  }
 ],
 "metadata": {
  "kernelspec": {
   "display_name": "Python (qiskit-dev)",
   "language": "python",
   "name": "qiskit-dev"
  },
  "language_info": {
   "codemirror_mode": {
    "name": "ipython",
    "version": 3
   },
   "file_extension": ".py",
   "mimetype": "text/x-python",
   "name": "python",
   "nbconvert_exporter": "python",
   "pygments_lexer": "ipython3",
   "version": "3.6.5"
  }
 },
 "nbformat": 4,
 "nbformat_minor": 2
}
