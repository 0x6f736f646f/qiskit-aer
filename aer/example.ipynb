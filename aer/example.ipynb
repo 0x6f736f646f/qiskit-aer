{
 "cells": [
  {
   "cell_type": "markdown",
   "metadata": {},
   "source": [
    "# AerQvSimulator"
   ]
  },
  {
   "cell_type": "markdown",
   "metadata": {},
   "source": [
    "## Using the simulator as a QISKit engine\n",
    "\n",
    "We now import the cython simulator and use it as a qiskit backend"
   ]
  },
  {
   "cell_type": "code",
   "execution_count": 1,
   "metadata": {},
   "outputs": [],
   "source": [
    "from pprint import pprint\n",
    "import numpy as np\n",
    "import qiskit\n",
    "from qiskit import QuantumCircuit, QuantumRegister, ClassicalRegister\n",
    "\n",
    "# Import Aer backends\n",
    "from qiskit_aer.backends import QasmSimulator, StatevectorSimulator, Aer"
   ]
  },
  {
   "cell_type": "code",
   "execution_count": 2,
   "metadata": {},
   "outputs": [],
   "source": [
    "def ghz_circuit_nomeas(num_qubits):\n",
    "    qr = qiskit.QuantumRegister(num_qubits)\n",
    "    circ = qiskit.QuantumCircuit(qr)\n",
    "    circ.h(qr[0])\n",
    "    if num_qubits > 1:\n",
    "        for j in range(num_qubits - 1):\n",
    "            circ.cx(qr[j], qr[j + 1])\n",
    "    return circ\n",
    "\n",
    "def ghz_circuit_meas(num_qubits):\n",
    "    qr = qiskit.QuantumRegister(num_qubits)\n",
    "    cr = qiskit.ClassicalRegister(num_qubits)\n",
    "    circ = qiskit.QuantumCircuit(qr, cr)\n",
    "    circ.h(qr[0])\n",
    "    if num_qubits > 1:\n",
    "        for j in range(num_qubits - 1):\n",
    "            circ.cx(qr[j], qr[j + 1])\n",
    "    circ.barrier(qr)\n",
    "    circ.measure(qr, cr)\n",
    "    return circ"
   ]
  },
  {
   "cell_type": "code",
   "execution_count": 3,
   "metadata": {},
   "outputs": [
    {
     "name": "stdout",
     "output_type": "stream",
     "text": [
      "{'counts': {'0x0': 501, '0xf': 499}}\n"
     ]
    }
   ],
   "source": [
    "circ = ghz_circuit_meas(4)\n",
    "result = qiskit.execute(circ, QasmSimulator(), shots=1000).result()\n",
    "print(result.get_data(circ))"
   ]
  },
  {
   "cell_type": "code",
   "execution_count": 4,
   "metadata": {},
   "outputs": [
    {
     "name": "stdout",
     "output_type": "stream",
     "text": [
      "{'statevector': array([0.70710678+0.j, 0.        +0.j, 0.        +0.j, 0.        +0.j,\n",
      "       0.        +0.j, 0.        +0.j, 0.        +0.j, 0.        +0.j,\n",
      "       0.        +0.j, 0.        +0.j, 0.        +0.j, 0.        +0.j,\n",
      "       0.        +0.j, 0.        +0.j, 0.        +0.j, 0.70710678+0.j])}\n"
     ]
    }
   ],
   "source": [
    "circ = ghz_circuit_nomeas(4)\n",
    "result = qiskit.execute(circ, StatevectorSimulator(), shots=1).result()\n",
    "print(result.get_data(circ))"
   ]
  }
 ],
 "metadata": {
  "kernelspec": {
   "display_name": "Python (qiskit)",
   "language": "python",
   "name": "qiskit"
  },
  "language_info": {
   "codemirror_mode": {
    "name": "ipython",
    "version": 3
   },
   "file_extension": ".py",
   "mimetype": "text/x-python",
   "name": "python",
   "nbconvert_exporter": "python",
   "pygments_lexer": "ipython3",
   "version": "3.6.5"
  }
 },
 "nbformat": 4,
 "nbformat_minor": 2
}
