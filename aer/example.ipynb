{
 "cells": [
  {
   "cell_type": "markdown",
   "metadata": {},
   "source": [
    "# Qiskit Aer"
   ]
  },
  {
   "cell_type": "markdown",
   "metadata": {},
   "source": [
    "This notebook shows how to import qiskit-aer simulators and use them as qiskit-terra backends"
   ]
  },
  {
   "cell_type": "code",
   "execution_count": 1,
   "metadata": {},
   "outputs": [],
   "source": [
    "from pprint import pprint\n",
    "import numpy as np\n",
    "\n",
    "# Import Terra\n",
    "import qiskit\n",
    "from qiskit import QuantumCircuit, QuantumRegister, ClassicalRegister\n",
    "\n",
    "# Import Aer backends\n",
    "from qiskit_aer import Aer"
   ]
  },
  {
   "cell_type": "code",
   "execution_count": 2,
   "metadata": {},
   "outputs": [
    {
     "data": {
      "text/plain": [
       "[<QasmSimulator('qasm_simulator') from AerProvider()>,\n",
       " <StatevectorSimulator('statevector_simulator') from AerProvider()>]"
      ]
     },
     "execution_count": 2,
     "metadata": {},
     "output_type": "execute_result"
    }
   ],
   "source": [
    "# List Aer backends\n",
    "Aer.backends()"
   ]
  },
  {
   "cell_type": "code",
   "execution_count": 3,
   "metadata": {},
   "outputs": [],
   "source": [
    "# Test circuits\n",
    "\n",
    "def ghz_circuit_nomeas(num_qubits):\n",
    "    qr = qiskit.QuantumRegister(num_qubits)\n",
    "    circ = qiskit.QuantumCircuit(qr)\n",
    "    circ.h(qr[0])\n",
    "    if num_qubits > 1:\n",
    "        for j in range(num_qubits - 1):\n",
    "            circ.cx(qr[j], qr[j + 1])\n",
    "    return circ\n",
    "\n",
    "def ghz_circuit_meas(num_qubits):\n",
    "    qr = qiskit.QuantumRegister(num_qubits)\n",
    "    cr = qiskit.ClassicalRegister(num_qubits)\n",
    "    circ = qiskit.QuantumCircuit(qr, cr)\n",
    "    circ.h(qr[0])\n",
    "    if num_qubits > 1:\n",
    "        for j in range(num_qubits - 1):\n",
    "            circ.cx(qr[j], qr[j + 1])\n",
    "    circ.barrier(qr)\n",
    "    circ.measure(qr, cr)\n",
    "    return circ"
   ]
  },
  {
   "cell_type": "markdown",
   "metadata": {},
   "source": [
    "## Aer Qasm Simulator"
   ]
  },
  {
   "cell_type": "code",
   "execution_count": 4,
   "metadata": {},
   "outputs": [
    {
     "name": "stdout",
     "output_type": "stream",
     "text": [
      "{'counts': {'0x0': 515, '0xf': 485}}\n"
     ]
    }
   ],
   "source": [
    "circ = ghz_circuit_meas(4)\n",
    "backend = Aer.get_backend('qasm_simulator')\n",
    "result = qiskit.execute(circ, backend, shots=1000).result()\n",
    "print(result.get_data(circ))"
   ]
  },
  {
   "cell_type": "markdown",
   "metadata": {},
   "source": [
    "## Aer Statevector simulator"
   ]
  },
  {
   "cell_type": "code",
   "execution_count": 5,
   "metadata": {},
   "outputs": [
    {
     "name": "stdout",
     "output_type": "stream",
     "text": [
      "{'statevector': array([0.70710678+0.j, 0.        +0.j, 0.        +0.j, 0.        +0.j,\n",
      "       0.        +0.j, 0.        +0.j, 0.        +0.j, 0.        +0.j,\n",
      "       0.        +0.j, 0.        +0.j, 0.        +0.j, 0.        +0.j,\n",
      "       0.        +0.j, 0.        +0.j, 0.        +0.j, 0.70710678+0.j])}\n"
     ]
    }
   ],
   "source": [
    "circ = ghz_circuit_nomeas(4)\n",
    "backend = Aer.get_backend('statevector_simulator')\n",
    "result = qiskit.execute(circ, backend, shots=1).result()\n",
    "print(result.get_data(circ))"
   ]
  }
 ],
 "metadata": {
  "kernelspec": {
   "display_name": "Python (qiskit)",
   "language": "python",
   "name": "qiskit"
  },
  "language_info": {
   "codemirror_mode": {
    "name": "ipython",
    "version": 3
   },
   "file_extension": ".py",
   "mimetype": "text/x-python",
   "name": "python",
   "nbconvert_exporter": "python",
   "pygments_lexer": "ipython3",
   "version": "3.6.5"
  }
 },
 "nbformat": 4,
 "nbformat_minor": 2
}
