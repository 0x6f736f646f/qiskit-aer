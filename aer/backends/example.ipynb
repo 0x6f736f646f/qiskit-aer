{
 "cells": [
  {
   "cell_type": "markdown",
   "metadata": {},
   "source": [
    "# Cython C++ QASM Simulator\n",
    "\n",
    "Author: Christopher J. Wood (cjwood@us.ibm.com)"
   ]
  },
  {
   "cell_type": "markdown",
   "metadata": {},
   "source": [
    "## Building the simulator\n",
    "\n",
    "The simulator backend can be compiled by running the following code cell"
   ]
  },
  {
   "cell_type": "markdown",
   "metadata": {},
   "source": [
    "## Using the simulator as a QISKit engine\n",
    "\n",
    "We now import the cython simulator and use it as a qiskit backend"
   ]
  },
  {
   "cell_type": "code",
   "execution_count": 1,
   "metadata": {},
   "outputs": [],
   "source": [
    "# Import QISKIT\n",
    "import qiskit\n",
    "from qiskit import QuantumCircuit, QuantumRegister, ClassicalRegister\n",
    "\n",
    "# Import Cython QASM Simulator Backend\n",
    "from aer_simulator import AerSimulator\n",
    "\n",
    "# Backends\n",
    "aer = AerSimulator()"
   ]
  },
  {
   "cell_type": "code",
   "execution_count": 2,
   "metadata": {},
   "outputs": [
    {
     "data": {
      "text/plain": [
       "<qiskit._instructionset.InstructionSet at 0x151ec49c88>"
      ]
     },
     "execution_count": 2,
     "metadata": {},
     "output_type": "execute_result"
    }
   ],
   "source": [
    "# Create a test circuit\n",
    "qr = QuantumRegister(2)\n",
    "cr = ClassicalRegister(2)\n",
    "circ = QuantumCircuit(qr, cr)\n",
    "circ.h(qr[0])\n",
    "circ.cx(qr[0], qr[1])\n",
    "circ.measure(qr, cr)"
   ]
  },
  {
   "cell_type": "code",
   "execution_count": 3,
   "metadata": {},
   "outputs": [
    {
     "data": {
      "text/plain": [
       "{'backend_name': 'qiskit_aer_simulator',\n",
       " 'backend_version': 'alpha 0.1',\n",
       " 'date': 'TODO',\n",
       " 'id': 'cab19b6b-cc8f-4d06-9321-ea1f4f796ade',\n",
       " 'metadata': {'omp_available_threads': 4,\n",
       "  'omp_circuit_threads': 1,\n",
       "  'omp_enabled': True,\n",
       "  'time_taken': 0.0008632850000000001},\n",
       " 'qobj_id': 'TODO',\n",
       " 'result': [{'data': {'counts': {'0x3': 1}},\n",
       "   'header': {'memory_sampling_opt': True, 'name': 'circuit1'},\n",
       "   'metadata': {'omp_shot_threads': 1,\n",
       "    'omp_state_threads': 4,\n",
       "    'seed': 1372228160,\n",
       "    'shots': 1,\n",
       "    'time_taken': 0.00037021000000000005},\n",
       "   'status': 'DONE',\n",
       "   'success': True}],\n",
       " 'status': 'COMPLETED',\n",
       " 'success': True}"
      ]
     },
     "execution_count": 3,
     "metadata": {},
     "output_type": "execute_result"
    }
   ],
   "source": [
    "result = qiskit.execute(circ, aer).result()\n",
    "result"
   ]
  },
  {
   "cell_type": "code",
   "execution_count": null,
   "metadata": {},
   "outputs": [],
   "source": []
  }
 ],
 "metadata": {
  "kernelspec": {
   "display_name": "Python (qiskit)",
   "language": "python",
   "name": "qiskit"
  },
  "language_info": {
   "codemirror_mode": {
    "name": "ipython",
    "version": 3
   },
   "file_extension": ".py",
   "mimetype": "text/x-python",
   "name": "python",
   "nbconvert_exporter": "python",
   "pygments_lexer": "ipython3",
   "version": "3.6.5"
  }
 },
 "nbformat": 4,
 "nbformat_minor": 2
}
