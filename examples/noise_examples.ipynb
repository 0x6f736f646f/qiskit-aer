{
 "cells": [
  {
   "cell_type": "markdown",
   "metadata": {},
   "source": [
    "# Noise Model Examples\n",
    "\n",
    "* *Author*: Christopher J. Wood (cjwood@us.ibm.com)\n",
    "* *Last Updated*: December 10, 2018\n",
    "\n",
    "**TODO: add more text**"
   ]
  },
  {
   "cell_type": "code",
   "execution_count": 1,
   "metadata": {},
   "outputs": [],
   "source": [
    "import numpy as np\n",
    "\n",
    "# Import Terra\n",
    "import qiskit\n",
    "from qiskit import QuantumCircuit, QuantumRegister, ClassicalRegister\n",
    "\n",
    "# Import Aer\n",
    "import qiskit_aer\n",
    "from qiskit_aer.backends import QasmSimulator\n",
    "\n",
    "from qiskit_aer import noise\n",
    "from qiskit_aer.noise import NoiseModel, QuantumError, ReadoutError"
   ]
  },
  {
   "cell_type": "markdown",
   "metadata": {},
   "source": [
    "## Noise Module\n",
    "\n",
    "This notebook introduces some of the features of the Qiskit Aer noise module and shows how to  construct a noise model for noisy simulation on the Qasm Simulator"
   ]
  },
  {
   "cell_type": "markdown",
   "metadata": {},
   "source": [
    "## Errors Module"
   ]
  },
  {
   "cell_type": "code",
   "execution_count": 2,
   "metadata": {},
   "outputs": [
    {
     "name": "stdout",
     "output_type": "stream",
     "text": [
      "Help on package qiskit_aer.noise.errors in qiskit_aer.noise:\n",
      "\n",
      "NAME\n",
      "    qiskit_aer.noise.errors - Standard error module for Qiskit Aer.\n",
      "\n",
      "DESCRIPTION\n",
      "    This module contains functions to generate QuantumError objects for\n",
      "    standard noise channels in quantum information science.\n",
      "    \n",
      "    errors (package)\n",
      "    |\n",
      "    |-- kraus_error\n",
      "    |-- mixed_unitary_error\n",
      "    |-- coherent_unitary_error\n",
      "    |-- pauli_error\n",
      "    |-- depolarizing_error\n",
      "    |-- thermal_relaxation_error\n",
      "    |-- phase_amplitude_damping_error\n",
      "    |-- amplitude_damping_error\n",
      "    |-- phase_damping_error\n",
      "\n",
      "PACKAGE CONTENTS\n",
      "    standard_errors\n",
      "\n",
      "FILE\n",
      "    /Users/cjwood/anaconda/envs/qiskit-dev/lib/python3.6/site-packages/qiskit_aer/noise/errors/__init__.py\n",
      "\n",
      "\n"
     ]
    }
   ],
   "source": [
    "from qiskit_aer.noise.errors import *\n",
    "help(noise.errors)"
   ]
  },
  {
   "cell_type": "markdown",
   "metadata": {},
   "source": [
    "## Test Circuit"
   ]
  },
  {
   "cell_type": "code",
   "execution_count": 3,
   "metadata": {},
   "outputs": [
    {
     "data": {
      "text/plain": [
       "<qiskit.circuit.instructionset.InstructionSet at 0x10bb78588>"
      ]
     },
     "execution_count": 3,
     "metadata": {},
     "output_type": "execute_result"
    }
   ],
   "source": [
    "# Test circuit\n",
    "qr = QuantumRegister(2)\n",
    "cr = ClassicalRegister(2)\n",
    "circ = QuantumCircuit(qr, cr)\n",
    "circ.h(qr[0])\n",
    "circ.cx(qr[0], qr[1])\n",
    "circ.measure(qr, cr)"
   ]
  },
  {
   "cell_type": "markdown",
   "metadata": {},
   "source": [
    "### Ideal Simulation"
   ]
  },
  {
   "cell_type": "code",
   "execution_count": 4,
   "metadata": {},
   "outputs": [
    {
     "name": "stdout",
     "output_type": "stream",
     "text": [
      "{'00': 532, '11': 468}\n"
     ]
    }
   ],
   "source": [
    "# Ideal Backend\n",
    "backend = QasmSimulator()\n",
    "job = qiskit.execute(circ, backend, shots=1000)\n",
    "result = job.result()\n",
    "print(result.get_counts(circ))"
   ]
  },
  {
   "cell_type": "markdown",
   "metadata": {},
   "source": [
    "### Depolarizing Channel Noise"
   ]
  },
  {
   "cell_type": "code",
   "execution_count": 5,
   "metadata": {},
   "outputs": [
    {
     "name": "stdout",
     "output_type": "stream",
     "text": [
      "QuantumError on 1 qubits. Noise circuits:\n",
      "  P(0) = 0.25, QobjInstructions = [[{'name': 'x', 'qubits': [0]}]\n",
      "  P(1) = 0.25, QobjInstructions = [[{'name': 'y', 'qubits': [0]}]\n",
      "  P(2) = 0.25, QobjInstructions = [[{'name': 'z', 'qubits': [0]}]\n",
      "  P(3) = 0.25, QobjInstructions = [[{'name': 'id', 'qubits': [0]}] \n",
      "\n",
      "QuantumError on 2 qubits. Noise circuits:\n",
      "  P(0) = 0.0625, QobjInstructions = [[{'name': 'x', 'qubits': [0]}]\n",
      "  P(1) = 0.0625, QobjInstructions = [[{'name': 'y', 'qubits': [0]}]\n",
      "  P(2) = 0.0625, QobjInstructions = [[{'name': 'z', 'qubits': [0]}]\n",
      "  P(3) = 0.0625, QobjInstructions = [[{'name': 'x', 'qubits': [1]}]\n",
      "  P(4) = 0.0625, QobjInstructions = [[{'name': 'x', 'qubits': [0]}, {'name': 'x', 'qubits': [1]}]\n",
      "  P(5) = 0.0625, QobjInstructions = [[{'name': 'y', 'qubits': [0]}, {'name': 'x', 'qubits': [1]}]\n",
      "  P(6) = 0.0625, QobjInstructions = [[{'name': 'z', 'qubits': [0]}, {'name': 'x', 'qubits': [1]}]\n",
      "  P(7) = 0.0625, QobjInstructions = [[{'name': 'y', 'qubits': [1]}]\n",
      "  P(8) = 0.0625, QobjInstructions = [[{'name': 'x', 'qubits': [0]}, {'name': 'y', 'qubits': [1]}]\n",
      "  P(9) = 0.0625, QobjInstructions = [[{'name': 'y', 'qubits': [0]}, {'name': 'y', 'qubits': [1]}]\n",
      "  P(10) = 0.0625, QobjInstructions = [[{'name': 'z', 'qubits': [0]}, {'name': 'y', 'qubits': [1]}]\n",
      "  P(11) = 0.0625, QobjInstructions = [[{'name': 'z', 'qubits': [1]}]\n",
      "  P(12) = 0.0625, QobjInstructions = [[{'name': 'x', 'qubits': [0]}, {'name': 'z', 'qubits': [1]}]\n",
      "  P(13) = 0.0625, QobjInstructions = [[{'name': 'y', 'qubits': [0]}, {'name': 'z', 'qubits': [1]}]\n",
      "  P(14) = 0.0625, QobjInstructions = [[{'name': 'z', 'qubits': [0]}, {'name': 'z', 'qubits': [1]}]\n",
      "  P(15) = 0.0625, QobjInstructions = [[{'name': 'id', 'qubits': [0]}] \n",
      "\n",
      "NoiseModel:\n",
      "  Instructions with noise: ['cx', 'h']\n",
      "  All-qubits errors: ['h']\n",
      "  Specific qubit errors: [('cx', [0, 1])]\n",
      "\n",
      "Counts:\n",
      "{'01': 258, '00': 225, '10': 263, '11': 254}\n"
     ]
    }
   ],
   "source": [
    "# Errors\n",
    "error1 = depolarizing_error(1, 1, standard_gates=True)\n",
    "print(error1, \"\\n\")\n",
    "error2 = depolarizing_error(1, 2, standard_gates=True)\n",
    "print(error2, \"\\n\")\n",
    "\n",
    "# Noise Model\n",
    "noise_model = NoiseModel()\n",
    "noise_model.add_all_qubit_quantum_error(error1, \"h\")\n",
    "noise_model.add_quantum_error(error2, \"cx\", [0, 1])\n",
    "print(noise_model)\n",
    "# Backend\n",
    "backend = QasmSimulator()\n",
    "qobj = qiskit.compile(circ, backend, shots=1000,\n",
    "                      basis_gates=noise_model.basis_gates)\n",
    "job = backend.run(qobj, noise_model=noise_model)\n",
    "result = job.result()\n",
    "print(\"\\nCounts:\")\n",
    "print(result.get_counts(circ))"
   ]
  },
  {
   "cell_type": "markdown",
   "metadata": {},
   "source": [
    "### X-90 based deplarizing error model"
   ]
  },
  {
   "cell_type": "code",
   "execution_count": 6,
   "metadata": {},
   "outputs": [
    {
     "name": "stdout",
     "output_type": "stream",
     "text": [
      "QuantumError on 1 qubits. Noise circuits:\n",
      "  P(0) = 0.25, QobjInstructions = [[{'name': 'x', 'qubits': [0]}]\n",
      "  P(1) = 0.25, QobjInstructions = [[{'name': 'y', 'qubits': [0]}]\n",
      "  P(2) = 0.25, QobjInstructions = [[{'name': 'z', 'qubits': [0]}]\n",
      "  P(3) = 0.25, QobjInstructions = [[{'name': 'id', 'qubits': [0]}] \n",
      "\n",
      "QuantumError on 2 qubits. Noise circuits:\n",
      "  P(0) = 0.0625, QobjInstructions = [[{'name': 'x', 'qubits': [0]}]\n",
      "  P(1) = 0.0625, QobjInstructions = [[{'name': 'y', 'qubits': [0]}]\n",
      "  P(2) = 0.0625, QobjInstructions = [[{'name': 'z', 'qubits': [0]}]\n",
      "  P(3) = 0.0625, QobjInstructions = [[{'name': 'x', 'qubits': [1]}]\n",
      "  P(4) = 0.0625, QobjInstructions = [[{'name': 'x', 'qubits': [0]}, {'name': 'x', 'qubits': [1]}]\n",
      "  P(5) = 0.0625, QobjInstructions = [[{'name': 'y', 'qubits': [0]}, {'name': 'x', 'qubits': [1]}]\n",
      "  P(6) = 0.0625, QobjInstructions = [[{'name': 'z', 'qubits': [0]}, {'name': 'x', 'qubits': [1]}]\n",
      "  P(7) = 0.0625, QobjInstructions = [[{'name': 'y', 'qubits': [1]}]\n",
      "  P(8) = 0.0625, QobjInstructions = [[{'name': 'x', 'qubits': [0]}, {'name': 'y', 'qubits': [1]}]\n",
      "  P(9) = 0.0625, QobjInstructions = [[{'name': 'y', 'qubits': [0]}, {'name': 'y', 'qubits': [1]}]\n",
      "  P(10) = 0.0625, QobjInstructions = [[{'name': 'z', 'qubits': [0]}, {'name': 'y', 'qubits': [1]}]\n",
      "  P(11) = 0.0625, QobjInstructions = [[{'name': 'z', 'qubits': [1]}]\n",
      "  P(12) = 0.0625, QobjInstructions = [[{'name': 'x', 'qubits': [0]}, {'name': 'z', 'qubits': [1]}]\n",
      "  P(13) = 0.0625, QobjInstructions = [[{'name': 'y', 'qubits': [0]}, {'name': 'z', 'qubits': [1]}]\n",
      "  P(14) = 0.0625, QobjInstructions = [[{'name': 'z', 'qubits': [0]}, {'name': 'z', 'qubits': [1]}]\n",
      "  P(15) = 0.0625, QobjInstructions = [[{'name': 'id', 'qubits': [0]}] \n",
      "\n",
      "NoiseModel:\n",
      "  Instructions with noise: ['cx', 'x90', 'h']\n",
      "  X-90 based single qubit gates: ['h']\n",
      "  All-qubits errors: ['x90']\n",
      "  Specific qubit errors: [('cx', [0, 1])]\n",
      "\n",
      "Counts:\n",
      "{'01': 231, '00': 284, '10': 250, '11': 235}\n"
     ]
    }
   ],
   "source": [
    "# Errors\n",
    "error1 = depolarizing_error(1, 1, standard_gates=True)\n",
    "print(error1, \"\\n\")\n",
    "error2 = depolarizing_error(1, 2, standard_gates=True)\n",
    "print(error2, \"\\n\")\n",
    "\n",
    "# Noise Model\n",
    "noise_model = NoiseModel()\n",
    "noise_model.set_x90_single_qubit_gates(['h'])\n",
    "noise_model.add_all_qubit_quantum_error(error1, \"x90\")\n",
    "noise_model.add_quantum_error(error2, \"cx\", [0, 1])\n",
    "\n",
    "print(noise_model)\n",
    "# Backend\n",
    "backend = QasmSimulator()\n",
    "qobj = qiskit.compile(circ, backend, shots=1000,\n",
    "                      basis_gates=noise_model.basis_gates)\n",
    "job = backend.run(qobj, noise_model=noise_model)\n",
    "result = job.result()\n",
    "print(\"\\nCounts:\")\n",
    "print(result.get_counts(circ))"
   ]
  },
  {
   "cell_type": "markdown",
   "metadata": {},
   "source": [
    "### Depolarizing noise from Kraus matrices"
   ]
  },
  {
   "cell_type": "code",
   "execution_count": 7,
   "metadata": {},
   "outputs": [
    {
     "name": "stdout",
     "output_type": "stream",
     "text": [
      "QuantumError on 1 qubits. Noise circuits:\n",
      "  P(0) = 0.25, QobjInstructions = [[{'name': 'x', 'qubits': [0]}]\n",
      "  P(1) = 0.25, QobjInstructions = [[{'name': 'y', 'qubits': [0]}]\n",
      "  P(2) = 0.25, QobjInstructions = [[{'name': 'z', 'qubits': [0]}]\n",
      "  P(3) = 0.25, QobjInstructions = [[{'name': 'id', 'qubits': [0]}] \n",
      "\n",
      "QuantumError on 2 qubits. Noise circuits:\n",
      "  P(0) = 0.0625, QobjInstructions = [[{'name': 'x', 'qubits': [0]}]\n",
      "  P(1) = 0.0625, QobjInstructions = [[{'name': 'y', 'qubits': [0]}]\n",
      "  P(2) = 0.0625, QobjInstructions = [[{'name': 'z', 'qubits': [0]}]\n",
      "  P(3) = 0.0625, QobjInstructions = [[{'name': 'x', 'qubits': [1]}]\n",
      "  P(4) = 0.0625, QobjInstructions = [[{'name': 'x', 'qubits': [0]}, {'name': 'x', 'qubits': [1]}]\n",
      "  P(5) = 0.0625, QobjInstructions = [[{'name': 'y', 'qubits': [0]}, {'name': 'x', 'qubits': [1]}]\n",
      "  P(6) = 0.0625, QobjInstructions = [[{'name': 'z', 'qubits': [0]}, {'name': 'x', 'qubits': [1]}]\n",
      "  P(7) = 0.0625, QobjInstructions = [[{'name': 'y', 'qubits': [1]}]\n",
      "  P(8) = 0.0625, QobjInstructions = [[{'name': 'x', 'qubits': [0]}, {'name': 'y', 'qubits': [1]}]\n",
      "  P(9) = 0.0625, QobjInstructions = [[{'name': 'y', 'qubits': [0]}, {'name': 'y', 'qubits': [1]}]\n",
      "  P(10) = 0.0625, QobjInstructions = [[{'name': 'z', 'qubits': [0]}, {'name': 'y', 'qubits': [1]}]\n",
      "  P(11) = 0.0625, QobjInstructions = [[{'name': 'z', 'qubits': [1]}]\n",
      "  P(12) = 0.0625, QobjInstructions = [[{'name': 'x', 'qubits': [0]}, {'name': 'z', 'qubits': [1]}]\n",
      "  P(13) = 0.0625, QobjInstructions = [[{'name': 'y', 'qubits': [0]}, {'name': 'z', 'qubits': [1]}]\n",
      "  P(14) = 0.0625, QobjInstructions = [[{'name': 'z', 'qubits': [0]}, {'name': 'z', 'qubits': [1]}]\n",
      "  P(15) = 0.0625, QobjInstructions = [[{'name': 'id', 'qubits': [0]}] \n",
      "\n",
      "NoiseModel:\n",
      "  Instructions with noise: ['cx', 'h']\n",
      "  All-qubits errors: ['h', 'cx'] \n",
      "\n",
      "Counts:\n",
      "{'01': 255, '00': 260, '10': 232, '11': 253}\n"
     ]
    }
   ],
   "source": [
    "# We define a unitary channel as a Kraus set\n",
    "# Note that internally this will be converted to a mixed unitary error channel\n",
    "\n",
    "I = np.eye(2, dtype=complex)\n",
    "X = np.array([[0, 1], [1, 0]], dtype=complex)\n",
    "Y = np.array([[0, -1j], [1j, 0]], dtype=complex)\n",
    "Z = np.array([[1, 0], [0, -1]], dtype=complex)\n",
    "\n",
    "# Errors\n",
    "kraus_ops1 = [np.sqrt(0.25) * I, np.sqrt(0.25) * X, np.sqrt(0.25) * Y, np.sqrt(0.25) * Z]\n",
    "error1 = kraus_error(kraus_ops1)\n",
    "print(error1, \"\\n\")\n",
    "\n",
    "kraus_ops2 = [np.kron(a,b) for a in kraus_ops1 for b in kraus_ops1]\n",
    "error2 = kraus_error(kraus_ops2)\n",
    "print(error2, \"\\n\")\n",
    "\n",
    "# Noise Model\n",
    "noise_model = NoiseModel()\n",
    "noise_model.add_all_qubit_quantum_error(error1, \"h\")\n",
    "noise_model.add_all_qubit_quantum_error(error2, \"cx\")\n",
    "print(noise_model, \"\\n\")\n",
    "\n",
    "backend = QasmSimulator()\n",
    "qobj = qiskit.compile(circ, backend, shots=1000,\n",
    "                      basis_gates=noise_model.basis_gates)\n",
    "job = backend.run(qobj, noise_model=noise_model)\n",
    "result = job.result()\n",
    "\n",
    "print(\"Counts:\")\n",
    "print(result.get_counts(circ))"
   ]
  },
  {
   "cell_type": "markdown",
   "metadata": {},
   "source": [
    "### Classical readout error"
   ]
  },
  {
   "cell_type": "code",
   "execution_count": 8,
   "metadata": {},
   "outputs": [
    {
     "name": "stdout",
     "output_type": "stream",
     "text": [
      "ReadoutError on 1 qubits. Assignment probabilities:\n",
      " P(j|0) =  [0.9, 0.1]\n",
      " P(j|1) =  [0.3, 0.7] \n",
      "\n",
      "NoiseModel:\n",
      "  Instructions with noise: ['measure']\n",
      "  All-qubits errors: ['measure'] \n",
      "\n",
      "Counts:\n",
      "{'01': 137, '00': 488, '10': 142, '11': 233}\n"
     ]
    }
   ],
   "source": [
    "# Error\n",
    "p_given_0 = [0.9, 0.1]\n",
    "p_given_1 = [0.3, 0.7]\n",
    "error = ReadoutError([p_given_0, p_given_1])\n",
    "print(error, \"\\n\")\n",
    "\n",
    "# Noise Model\n",
    "noise_model = NoiseModel()\n",
    "noise_model.add_all_qubit_readout_error(error)\n",
    "print(noise_model, \"\\n\")\n",
    "\n",
    "# Backend\n",
    "backend = QasmSimulator()\n",
    "qobj = qiskit.compile(circ, backend, shots=1000)\n",
    "job = backend.run(qobj, noise_model=noise_model)\n",
    "result = job.result()\n",
    "print(\"Counts:\")\n",
    "print(result.get_counts(circ))"
   ]
  },
  {
   "cell_type": "markdown",
   "metadata": {},
   "source": [
    "### Amplitude Damping Error"
   ]
  },
  {
   "cell_type": "code",
   "execution_count": 9,
   "metadata": {
    "scrolled": true
   },
   "outputs": [
    {
     "name": "stdout",
     "output_type": "stream",
     "text": [
      "QuantumError on 1 qubits. Noise circuits:\n",
      "  P(0) = 1.0, QobjInstructions = [[{'name': 'kraus', 'qubits': [0], 'params': [array([[ 1.        +0.j, -0.        +0.j],\n",
      "       [-0.        +0.j,  0.70710678+0.j]]), array([[0.        +0.j, 0.70710678+0.j],\n",
      "       [0.        +0.j, 0.        +0.j]])]}] \n",
      "\n",
      "NoiseModel:\n",
      "  Instructions with noise: ['h']\n",
      "  All-qubits errors: ['h'] \n",
      "\n",
      "Counts:\n",
      "{'00': 761, '11': 239}\n"
     ]
    }
   ],
   "source": [
    "# Error\n",
    "error1 = amplitude_damping_error(0.5)\n",
    "print(error1, \"\\n\")\n",
    "\n",
    "# Noise Model\n",
    "noise_model = NoiseModel()\n",
    "noise_model.add_all_qubit_quantum_error(error1, \"h\")\n",
    "print(noise_model, \"\\n\")\n",
    "\n",
    "# Backend\n",
    "backend = QasmSimulator()\n",
    "qobj = qiskit.compile(circ, backend, shots=1000,\n",
    "                      basis_gates=noise_model.basis_gates)\n",
    "job = backend.run(qobj, noise_model=noise_model)\n",
    "result = job.result()\n",
    "\n",
    "# Results\n",
    "print(\"Counts:\")\n",
    "print(result.get_counts(circ))"
   ]
  },
  {
   "cell_type": "markdown",
   "metadata": {},
   "source": [
    "### Phase damping error"
   ]
  },
  {
   "cell_type": "code",
   "execution_count": 10,
   "metadata": {},
   "outputs": [
    {
     "name": "stdout",
     "output_type": "stream",
     "text": [
      "QuantumError on 1 qubits. Noise circuits:\n",
      "  P(0) = 0.066987298108, QobjInstructions = [[{'name': 'z', 'qubits': [0]}]\n",
      "  P(1) = 0.933012701892, QobjInstructions = [[{'name': 'id', 'qubits': [0]}] \n",
      "\n",
      "NoiseModel:\n",
      "  Instructions with noise: ['h']\n",
      "  All-qubits errors: ['h'] \n",
      "\n",
      "Counts:\n",
      "{'00': 492, '11': 508}\n"
     ]
    }
   ],
   "source": [
    "error1 = phase_damping_error(0.25)\n",
    "print(error1, \"\\n\")\n",
    "\n",
    "# Noise Model\n",
    "noise_model = NoiseModel()\n",
    "noise_model.add_all_qubit_quantum_error(error1, \"h\")\n",
    "print(noise_model, \"\\n\")\n",
    "\n",
    "# Backend\n",
    "backend = QasmSimulator()\n",
    "qobj = qiskit.compile(circ, backend, shots=1000,\n",
    "                      basis_gates=noise_model.basis_gates)\n",
    "job = backend.run(qobj, noise_model=noise_model)\n",
    "result = job.result()\n",
    "\n",
    "# Counts\n",
    "print(\"Counts:\")\n",
    "print(result.get_counts(circ))"
   ]
  },
  {
   "cell_type": "markdown",
   "metadata": {},
   "source": [
    "### Pauli Error (matrix)"
   ]
  },
  {
   "cell_type": "code",
   "execution_count": 11,
   "metadata": {},
   "outputs": [
    {
     "name": "stdout",
     "output_type": "stream",
     "text": [
      "QuantumError on 2 qubits. Noise circuits:\n",
      "  P(0) = 0.5, QobjInstructions = [[{'name': 'x', 'qubits': [0]}]\n",
      "  P(1) = 0.5, QobjInstructions = [[{'name': 'id', 'qubits': [0]}] \n",
      "\n",
      "NoiseModel:\n",
      "  Instructions with noise: ['cx']\n",
      "  Specific qubit errors: [('cx', [0, 1])]\n",
      "\n",
      "Counts:\n",
      "{'01': 293, '00': 231, '10': 232, '11': 244}\n"
     ]
    }
   ],
   "source": [
    "# Errors\n",
    "error2 = pauli_error([('II', 0.5), ('IX', 0.5)], standard_gates=True)\n",
    "print(error2, \"\\n\")\n",
    "\n",
    "# Noise Model\n",
    "noise_model = NoiseModel()\n",
    "noise_model.add_quantum_error(error2, \"cx\", [0, 1])\n",
    "print(noise_model)\n",
    "# Backend\n",
    "backend = QasmSimulator()\n",
    "qobj = qiskit.compile(circ, backend, shots=1000,\n",
    "                      basis_gates=noise_model.basis_gates)\n",
    "job = backend.run(qobj, noise_model=noise_model)\n",
    "result = job.result()\n",
    "print(\"\\nCounts:\")\n",
    "print(result.get_counts(circ))"
   ]
  },
  {
   "cell_type": "markdown",
   "metadata": {},
   "source": [
    "### Pauli Error (gates)"
   ]
  },
  {
   "cell_type": "code",
   "execution_count": 12,
   "metadata": {},
   "outputs": [
    {
     "name": "stdout",
     "output_type": "stream",
     "text": [
      "QuantumError on 2 qubits. Noise circuits:\n",
      "  P(0) = 0.5, QobjInstructions = [[{'name': 'unitary', 'qubits': [0, 1], 'params': array([[ 0.+0.j,  1.+0.j,  0.+0.j,  0.+0.j],\n",
      "       [ 1.+0.j,  0.+0.j,  0.+0.j,  0.+0.j],\n",
      "       [ 0.+0.j,  0.+0.j, -0.+0.j, -1.+0.j],\n",
      "       [ 0.+0.j,  0.+0.j, -1.+0.j, -0.+0.j]])}]\n",
      "  P(1) = 0.5, QobjInstructions = [[{'name': 'id', 'qubits': [0]}] \n",
      "\n",
      "NoiseModel:\n",
      "  Instructions with noise: ['cx']\n",
      "  Specific qubit errors: [('cx', [0, 1])]\n",
      "\n",
      "Counts:\n",
      "{'01': 275, '00': 220, '10': 241, '11': 264}\n"
     ]
    }
   ],
   "source": [
    "# Errors\n",
    "error2 = pauli_error([('II', 0.5), ('ZX', 0.5)], standard_gates=False)\n",
    "print(error2, \"\\n\")\n",
    "\n",
    "# Noise Model\n",
    "noise_model = NoiseModel()\n",
    "noise_model.add_quantum_error(error2, \"cx\", [0, 1])\n",
    "print(noise_model)\n",
    "# Backend\n",
    "backend = QasmSimulator()\n",
    "qobj = qiskit.compile(circ, backend, shots=1000,\n",
    "                      basis_gates=noise_model.basis_gates)\n",
    "job = backend.run(qobj, noise_model=noise_model)\n",
    "result = job.result()\n",
    "print(\"\\nCounts:\")\n",
    "print(result.get_counts(circ))"
   ]
  }
 ],
 "metadata": {
  "kernelspec": {
   "display_name": "Python (qiskit-dev)",
   "language": "python",
   "name": "qiskit-dev"
  },
  "language_info": {
   "codemirror_mode": {
    "name": "ipython",
    "version": 3
   },
   "file_extension": ".py",
   "mimetype": "text/x-python",
   "name": "python",
   "nbconvert_exporter": "python",
   "pygments_lexer": "ipython3",
   "version": "3.6.7"
  }
 },
 "nbformat": 4,
 "nbformat_minor": 2
}
