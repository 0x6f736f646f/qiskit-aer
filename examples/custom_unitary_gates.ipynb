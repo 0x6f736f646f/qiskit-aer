{
 "cells": [
  {
   "cell_type": "markdown",
   "metadata": {},
   "source": [
    "<img src=\"./images/qiskit-heading.gif\" alt=\"Note: In order for images to show up in this jupyter notebook you need to select File => Trusted Notebook\" width=\"500 px\" align=\"left\">"
   ]
  },
  {
   "cell_type": "markdown",
   "metadata": {},
   "source": [
    "# Qiskit Aer: Applying noise to custom gates\n",
    "\n",
    "The latest version of this notebook is available on https://github.com/Qiskit/qiskit-tutorial.\n",
    "\n",
    "**NOTE: THIS ONLY WORKS ON QISKIT-TERRA 0.7, QISKIT-AER 0.1**\n",
    "\n",
    "***\n",
    "### Contributors\n",
    "Christopher J. Wood$^{1}$\n",
    "\n",
    "1. IBM T.J. Watson Research Center, Yorktown Heights, NY, USA"
   ]
  },
  {
   "cell_type": "markdown",
   "metadata": {},
   "source": [
    "## Introduction\n",
    "\n",
    "This notebook shows how to use some experimental noise features to define a noise model for any unitary gate, not just the ones supported by the backend.\n",
    "\n",
    "**Disclaimer:** This is considered *experimental* as it involves modifying a compiled Qobj since the featurs are not yet supported through the Qiskit Terra `QuantumCircuit` API. As such they may change or break in future releases. Qiskit Aer includes some tools to help do this in the `qiskit_aer.utils.qobj_utils` module"
   ]
  },
  {
   "cell_type": "code",
   "execution_count": 1,
   "metadata": {},
   "outputs": [],
   "source": [
    "import numpy as np\n",
    "\n",
    "# Import Qiskit\n",
    "from qiskit_aer import Aer\n",
    "from qiskit_aer.noise import NoiseModel\n",
    "from qiskit_aer.noise.errors import amplitude_damping_error\n",
    "from qiskit import compile, QuantumCircuit, QuantumRegister, ClassicalRegister\n",
    "from qiskit.tools.visualization import plot_histogram\n",
    "\n",
    "# Import experimental Qobj utilities\n",
    "from qiskit.qobj import QobjInstruction\n",
    "from qiskit_aer.utils.qobj_utils import get_instr_pos\n",
    "from qiskit_aer.utils.qobj_utils import insert_instr\n",
    "from qiskit_aer.utils.qobj_utils import unitary_instr"
   ]
  },
  {
   "cell_type": "markdown",
   "metadata": {},
   "source": [
    "## Simulating a custom unitary gate\n",
    "\n",
    "The Qiskit Aer simulators support defining a custom unitary matrix QobjInstruction as\n",
    "\n",
    "```\n",
    "QobjInstruction(name='unitary', qubits=qubits, params=matrix, label=label)\n",
    "```\n",
    "\n",
    "Where `matrix` is the unitary matrix we wish to apply, `qubits` is the list of qubits the matrix acts on, and `label` is an optional label string we can later use to identify this matrix in a noise model.\n",
    "\n",
    "For example we can make a unitary `QobjInstruction` for a Controlled-NOT gate with qubit-0 as control, and qubit-1 as target as follows:"
   ]
  },
  {
   "cell_type": "code",
   "execution_count": 2,
   "metadata": {},
   "outputs": [],
   "source": [
    "cx_mat = np.array([[1, 0, 0, 0],\n",
    "                   [0, 0, 0, 1],\n",
    "                   [0, 0, 1, 0],\n",
    "                   [0, 1, 0, 0]])\n",
    "custom_cx = QobjInstruction(name='unitary', params=cx_mat,\n",
    "                            qubits=[0, 1], label='custom_cx')"
   ]
  },
  {
   "cell_type": "markdown",
   "metadata": {},
   "source": [
    "Or equivalently using the convenience function from `qobj_utils.unitary_instr`:"
   ]
  },
  {
   "cell_type": "code",
   "execution_count": 3,
   "metadata": {},
   "outputs": [
    {
     "data": {
      "text/plain": [
       "QobjInstruction(label='custom_cx', name='unitary', params=array([[1.+0.j, 0.+0.j, 0.+0.j, 0.+0.j],\n",
       "       [0.+0.j, 0.+0.j, 0.+0.j, 1.+0.j],\n",
       "       [0.+0.j, 0.+0.j, 1.+0.j, 0.+0.j],\n",
       "       [0.+0.j, 1.+0.j, 0.+0.j, 0.+0.j]]), qubits=[0, 1])"
      ]
     },
     "execution_count": 3,
     "metadata": {},
     "output_type": "execute_result"
    }
   ],
   "source": [
    "unitary_instr(cx_mat, [0, 1], label='custom_cx')"
   ]
  },
  {
   "cell_type": "markdown",
   "metadata": {},
   "source": [
    "**Note:** The matrix is specified with respect to the tensor product $U_{b}\\otimes U_{a}$ for `qubits=[a, b]`."
   ]
  },
  {
   "cell_type": "markdown",
   "metadata": {},
   "source": [
    "## Example: using the iSWAP gate to implement a CX gate\n",
    "\n",
    "Lets consider an explicit example of using the unitary instruction for a custom gate. We will use the iSWAP gate which is an entangling two-qubit gate given by\n",
    "\n",
    "$$\\mbox{iSWAP} = \\left(\\begin{array} \n",
    "& 1 & 0 & 0 & 0 \\\\ \n",
    "0 & 0 & i & 0 \\\\ \n",
    "0 & i & 0 & 0 \\\\ \n",
    "0 & 0 & 0 & 1\n",
    "\\end{array}\\right)$$\n",
    "\n",
    "A CX gate can be implemented using two iSWAP gates and single qubit gates with the following circuit:\n",
    "\n",
    "FIGURE TODO\n",
    "\n",
    "Since we cannot insert this instruction directly using the `QuantumCircuit` API we will create the circuit with a `barrier` instruction inserted everywhere the iSWAP gate should be:"
   ]
  },
  {
   "cell_type": "code",
   "execution_count": 4,
   "metadata": {},
   "outputs": [
    {
     "name": "stdout",
     "output_type": "stream",
     "text": [
      "NOTE: iSWAP gates should be inserted at barrier positions\n",
      "                     ┌─────┐ ░ ┌─────┐┌───┐┌─────┐ ░      \n",
      "qr_0: |0>────────────┤ Sdg ├─░─┤ Sdg ├┤ H ├┤ Sdg ├─░──────\n",
      "         ┌─────┐┌───┐└─────┘ ░ └─────┘└───┘└─────┘ ░ ┌───┐\n",
      "qr_1: |0>┤ Sdg ├┤ H ├────────░─────────────────────░─┤ S ├\n",
      "         └─────┘└───┘        ░                     ░ └───┘\n",
      " cr_0: 0 ═════════════════════════════════════════════════\n",
      "                                                          \n",
      " cr_1: 0 ═════════════════════════════════════════════════\n",
      "                                                          \n"
     ]
    }
   ],
   "source": [
    "qr = QuantumRegister(2, 'qr')\n",
    "cr = ClassicalRegister(2, 'cr')\n",
    "cx_circ = QuantumCircuit(qr, cr, name='cx')\n",
    "\n",
    "# CNOT Circuit where iSWAP gates should be inserted at barrier locations\n",
    "cx_circ.sdg(qr[1])\n",
    "cx_circ.h(qr[1])\n",
    "cx_circ.sdg(qr[0])\n",
    "cx_circ.barrier(qr)  # Place iSWAP here\n",
    "cx_circ.sdg(qr[0])\n",
    "cx_circ.h(qr[0])\n",
    "cx_circ.sdg(qr[0])\n",
    "cx_circ.barrier(qr)  # Place iSWAP here\n",
    "cx_circ.s(qr[1])\n",
    "\n",
    "print(\"NOTE: iSWAP gates should be inserted at barrier positions\")\n",
    "print(cx_circ)"
   ]
  },
  {
   "cell_type": "markdown",
   "metadata": {},
   "source": [
    "Now we need to compile the circuit and insert iSWAP instructions at the barrier positions in the `QobjExperiment`. \n",
    "The `qobj_utils` includes functions to help do this (*see their docstrings for more details*):\n",
    "\n",
    "* `get_instr_pos` will return the positions of all instructions with a given name in a given `QobjExperiment`.\n",
    "* `insert_instr` will insert a `QobjInstruction` into a given `QobjExperiment` at a specific location.\n",
    "\n",
    "Using these we can write a helper function to insert iSWAP gates after barrier operations. We will use the string label `\"iswap\"` for these gates so we cn assign a noise model to it later."
   ]
  },
  {
   "cell_type": "code",
   "execution_count": 5,
   "metadata": {},
   "outputs": [],
   "source": [
    "def add_iswap_after_barrier(qobj):\n",
    "    \"\"\"Inserts iSWAP unitary instructions after barriers.\"\"\"\n",
    "    iswap_mat = np.array([[1, 0, 0, 0],\n",
    "                          [0, 0, 1j, 0],\n",
    "                          [0, 1j, 0, 0],\n",
    "                          [0, 0, 0, 1]])\n",
    "    instr = unitary_instr(iswap_mat, [0, 1], 'iswap')\n",
    "    for exp_pos, _ in enumerate(qobj.experiments):\n",
    "        for pos in reversed(get_instr_pos(qobj, exp_pos, 'barrier')):\n",
    "            insert_instr(qobj, exp_pos, instr, pos)\n",
    "    return qobj"
   ]
  },
  {
   "cell_type": "markdown",
   "metadata": {},
   "source": [
    "### Verifying circuit on the Aer unitary simulator\n",
    "\n",
    "We will execute the circuit on the Aer unitary simulator to verify our qobj implements the CX gate"
   ]
  },
  {
   "cell_type": "code",
   "execution_count": 6,
   "metadata": {},
   "outputs": [
    {
     "name": "stdout",
     "output_type": "stream",
     "text": [
      "Circuit unitary:\n",
      "[[1.+0.j 0.+0.j 0.+0.j 0.+0.j]\n",
      " [0.+0.j 0.+0.j 0.+0.j 1.+0.j]\n",
      " [0.+0.j 0.+0.j 1.+0.j 0.+0.j]\n",
      " [0.+0.j 1.+0.j 0.+0.j 0.+0.j]]\n"
     ]
    }
   ],
   "source": [
    "# Select UnitarySimulator backend\n",
    "simulator = Aer.get_backend('unitary_simulator')\n",
    "\n",
    "# Compile the circuit qobj and insert iSWAP instructions\n",
    "qobj = compile(cx_circ, simulator,)\n",
    "qobj = add_iswap_after_barrier(qobj)\n",
    "\n",
    "# Execute on the simulator\n",
    "result = simulator.run(qobj).result()\n",
    "unitary = result.get_unitary(cx_circ)\n",
    "print(\"Circuit unitary:\")\n",
    "print(unitary)"
   ]
  },
  {
   "cell_type": "markdown",
   "metadata": {},
   "source": [
    "So we have confirmed that our circuit implemented the correct unitary!"
   ]
  },
  {
   "cell_type": "markdown",
   "metadata": {},
   "source": [
    "## Using a custom unitary in a noise model\n",
    "\n",
    "Now that we have executed a qobj that includes a custom unitary instruction, we can now assign a quantum error to this gate in a `NoiseModel`. To do this we simply use our unitary instruction label `iswap` for the gate name when adding a quantum error to the noise model. For our example we will create an 2-qubit error consisting of two single-qubit amplitude damping channels with different damping parameters. For now we will assume all the other circuit instructions are ideal"
   ]
  },
  {
   "cell_type": "code",
   "execution_count": 7,
   "metadata": {},
   "outputs": [],
   "source": [
    "# Error parameters\n",
    "param_q0 = 0.05  # damping parameter for qubit-0\n",
    "param_q1 = 0.1   # damping parameter for qubit-1\n",
    "p_state1 = 0.03  # |1> state equilibrium population for damping\n",
    "\n",
    "# Construct the error\n",
    "qerror_q0 = amplitude_damping_error(param_q0, excited_state_population=p_state1)\n",
    "qerror_q1 = amplitude_damping_error(param_q1, excited_state_population=p_state1)\n",
    "iswap_error = qerror_q1.kron(qerror_q0)\n",
    "\n",
    "# Build the noise model by adding the error to the \"iswap\" gate\n",
    "noise_model = NoiseModel()\n",
    "noise_model.add_all_qubit_quantum_error(iswap_error, 'iswap')"
   ]
  },
  {
   "cell_type": "markdown",
   "metadata": {},
   "source": [
    "Let us first take our previous CX circuit and add an initial Hadamard gate and final measurement to create a Bell-state preparation circuit that we may simulator on the `QasmSimulator` both for the ideal and noisy case"
   ]
  },
  {
   "cell_type": "code",
   "execution_count": 8,
   "metadata": {},
   "outputs": [
    {
     "name": "stdout",
     "output_type": "stream",
     "text": [
      "Bell preparation circuit: iSWAPS should be inserted at barrier positions\n",
      "                     ┌───┐┌─────┐ ░ ┌─────┐┌───┐┌─────┐ ░ ┌─┐        \n",
      "qr_0: |0>────────────┤ H ├┤ Sdg ├─░─┤ Sdg ├┤ H ├┤ Sdg ├─░─┤M├────────\n",
      "         ┌─────┐┌───┐└───┘└─────┘ ░ └─────┘└───┘└─────┘ ░ └╥┘┌───┐┌─┐\n",
      "qr_1: |0>┤ Sdg ├┤ H ├─────────────░─────────────────────░──╫─┤ S ├┤M├\n",
      "         └─────┘└───┘             ░                     ░  ║ └───┘└╥┘\n",
      " cr_0: 0 ══════════════════════════════════════════════════╩═══════╬═\n",
      "                                                                   ║ \n",
      " cr_1: 0 ══════════════════════════════════════════════════════════╩═\n",
      "                                                                     \n"
     ]
    }
   ],
   "source": [
    "# Bell state circuit where iSWAPS should be inserted at barrier locations\n",
    "bell_circ = QuantumCircuit(qr, cr, name='bell')\n",
    "bell_circ.h(qr[0])\n",
    "bell_circ = bell_circ + cx_circ \n",
    "bell_circ.measure(qr, cr)\n",
    "print(\"Bell preparation circuit: iSWAPS should be inserted at barrier positions\")\n",
    "print(bell_circ)"
   ]
  },
  {
   "cell_type": "markdown",
   "metadata": {},
   "source": [
    "Again we must add iSWAP gates back into the compiled qobj for execution on the Aer Qasm simulator"
   ]
  },
  {
   "cell_type": "code",
   "execution_count": 9,
   "metadata": {},
   "outputs": [],
   "source": [
    "# Select UnitarySimulator backend\n",
    "simulator = Aer.get_backend('qasm_simulator')\n",
    "\n",
    "# Compile the circuit qobj and insert iSWAP instructions\n",
    "qobj = compile(bell_circ, simulator,)\n",
    "qobj = add_iswap_after_barrier(qobj)"
   ]
  },
  {
   "cell_type": "markdown",
   "metadata": {},
   "source": [
    "### Ideal output\n",
    "\n",
    "Lets first see the ideal output. Since this generates a Bell-state we expect two peaks for 00 and 11"
   ]
  },
  {
   "cell_type": "code",
   "execution_count": 10,
   "metadata": {},
   "outputs": [
    {
     "data": {
      "image/png": "[encoded data removed]",
      "text/plain": [
       "<matplotlib.figure.Figure at 0x10d165668>"
      ]
     },
     "execution_count": 10,
     "metadata": {},
     "output_type": "execute_result"
    }
   ],
   "source": [
    "# Execute on the simulator without noise\n",
    "result = simulator.run(qobj).result()\n",
    "ideal_counts = result.get_counts(bell_circ)\n",
    "plot_histogram(ideal_counts, title='Ideal output for iSWAP bell-state preparation')"
   ]
  },
  {
   "cell_type": "markdown",
   "metadata": {},
   "source": [
    "### Noisy circuit execution\n",
    "\n",
    "Finally lets now simulate it with our custom noise model. Since there is a small amplitude damping error on the two qubit gates we expect small additional peaks for the 01 and 10 outcome probabilities"
   ]
  },
  {
   "cell_type": "code",
   "execution_count": 11,
   "metadata": {},
   "outputs": [
    {
     "data": {
      "image/png": "[encoded data removed]",
      "text/plain": [
       "<matplotlib.figure.Figure at 0x1514256ef0>"
      ]
     },
     "execution_count": 11,
     "metadata": {},
     "output_type": "execute_result"
    }
   ],
   "source": [
    "# Execute on the simulator without noise\n",
    "result = simulator.run(qobj, noise_model=noise_model).result()\n",
    "noise_counts = result.get_counts(bell_circ)\n",
    "plot_histogram(noise_counts, title='Noisy output for iSWAP bell-state preparation')"
   ]
  }
 ],
 "metadata": {
  "kernelspec": {
   "display_name": "Python (qiskit-dev)",
   "language": "python",
   "name": "qiskit-dev"
  },
  "language_info": {
   "codemirror_mode": {
    "name": "ipython",
    "version": 3
   },
   "file_extension": ".py",
   "mimetype": "text/x-python",
   "name": "python",
   "nbconvert_exporter": "python",
   "pygments_lexer": "ipython3",
   "version": "3.6.7"
  }
 },
 "nbformat": 4,
 "nbformat_minor": 2
}
