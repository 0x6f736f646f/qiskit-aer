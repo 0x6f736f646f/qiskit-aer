{
 "cells": [
  {
   "cell_type": "markdown",
   "metadata": {},
   "source": [
    "# Qiskit Aer"
   ]
  },
  {
   "cell_type": "markdown",
   "metadata": {},
   "source": [
    "This notebook shows how to import qiskit-aer simulators and use them as qiskit-terra backends"
   ]
  },
  {
   "cell_type": "code",
   "execution_count": 1,
   "metadata": {},
   "outputs": [],
   "source": [
    "from pprint import pprint\n",
    "import numpy as np\n",
    "\n",
    "# Import Terra\n",
    "import qiskit\n",
    "from qiskit import QuantumCircuit, QuantumRegister, ClassicalRegister\n",
    "\n",
    "# Import Aer backends\n",
    "from qiskit_aer import Aer"
   ]
  },
  {
   "cell_type": "code",
   "execution_count": 2,
   "metadata": {},
   "outputs": [
    {
     "data": {
      "text/plain": [
       "[<QasmSimulator('qasm_simulator') from AerProvider()>,\n",
       " <StatevectorSimulator('statevector_simulator') from AerProvider()>,\n",
       " <UnitarySimulator('unitary_simulator') from AerProvider()>]"
      ]
     },
     "execution_count": 2,
     "metadata": {},
     "output_type": "execute_result"
    }
   ],
   "source": [
    "# List Aer backends\n",
    "Aer.backends()"
   ]
  },
  {
   "cell_type": "code",
   "execution_count": 3,
   "metadata": {},
   "outputs": [],
   "source": [
    "# Test circuits\n",
    "\n",
    "def ghz_circuit_nomeas(num_qubits):\n",
    "    qr = qiskit.QuantumRegister(num_qubits)\n",
    "    circ = qiskit.QuantumCircuit(qr)\n",
    "    circ.h(qr[0])\n",
    "    if num_qubits > 1:\n",
    "        for j in range(num_qubits - 1):\n",
    "            circ.cx(qr[j], qr[j + 1])\n",
    "    return circ\n",
    "\n",
    "def ghz_circuit_meas(num_qubits):\n",
    "    qr = qiskit.QuantumRegister(num_qubits)\n",
    "    cr = qiskit.ClassicalRegister(num_qubits)\n",
    "    circ = qiskit.QuantumCircuit(qr, cr)\n",
    "    circ.h(qr[0])\n",
    "    if num_qubits > 1:\n",
    "        for j in range(num_qubits - 1):\n",
    "            circ.cx(qr[j], qr[j + 1])\n",
    "    circ.barrier(qr)\n",
    "    circ.measure(qr, cr)\n",
    "    return circ"
   ]
  },
  {
   "cell_type": "markdown",
   "metadata": {},
   "source": [
    "## Qasm Simulator"
   ]
  },
  {
   "cell_type": "code",
   "execution_count": 4,
   "metadata": {},
   "outputs": [
    {
     "data": {
      "text/plain": [
       "{'0x0': 523, '0xf': 477}"
      ]
     },
     "execution_count": 4,
     "metadata": {},
     "output_type": "execute_result"
    }
   ],
   "source": [
    "circ = ghz_circuit_meas(4)\n",
    "backend = Aer.get_backend('qasm_simulator')\n",
    "result = qiskit.execute(circ, backend, shots=1000).result()\n",
    "result.get_counts(circ)"
   ]
  },
  {
   "cell_type": "markdown",
   "metadata": {},
   "source": [
    "## Statevector simulator"
   ]
  },
  {
   "cell_type": "code",
   "execution_count": 5,
   "metadata": {},
   "outputs": [
    {
     "data": {
      "text/plain": [
       "array([0.70710678+0.j, 0.        +0.j, 0.        +0.j, 0.        +0.j,\n",
       "       0.        +0.j, 0.        +0.j, 0.        +0.j, 0.        +0.j,\n",
       "       0.        +0.j, 0.        +0.j, 0.        +0.j, 0.        +0.j,\n",
       "       0.        +0.j, 0.        +0.j, 0.        +0.j, 0.70710678+0.j])"
      ]
     },
     "execution_count": 5,
     "metadata": {},
     "output_type": "execute_result"
    }
   ],
   "source": [
    "circ = ghz_circuit_nomeas(4)\n",
    "backend = Aer.get_backend('statevector_simulator')\n",
    "result = qiskit.execute(circ, backend, shots=1).result()\n",
    "result.get_statevector(circ)"
   ]
  },
  {
   "cell_type": "markdown",
   "metadata": {},
   "source": [
    "## Unitary Simulator"
   ]
  },
  {
   "cell_type": "code",
   "execution_count": 6,
   "metadata": {},
   "outputs": [
    {
     "data": {
      "text/plain": [
       "array([[ 0.70710678+0.j,  0.70710678-0.j,  0.        +0.j,\n",
       "         0.        +0.j],\n",
       "       [ 0.        +0.j,  0.        +0.j,  0.70710678+0.j,\n",
       "        -0.70710678+0.j],\n",
       "       [ 0.        +0.j,  0.        +0.j,  0.70710678+0.j,\n",
       "         0.70710678-0.j],\n",
       "       [ 0.70710678+0.j, -0.70710678+0.j,  0.        +0.j,\n",
       "         0.        +0.j]])"
      ]
     },
     "execution_count": 6,
     "metadata": {},
     "output_type": "execute_result"
    }
   ],
   "source": [
    "circ = ghz_circuit_nomeas(2)\n",
    "backend = Aer.get_backend('unitary_simulator')\n",
    "result = qiskit.execute(circ, backend, shots=1).result()\n",
    "result.get_unitary(circ)"
   ]
  }
 ],
 "metadata": {
  "kernelspec": {
   "display_name": "Python (qiskit-dev)",
   "language": "python",
   "name": "qiskit-dev"
  },
  "language_info": {
   "codemirror_mode": {
    "name": "ipython",
    "version": 3
   },
   "file_extension": ".py",
   "mimetype": "text/x-python",
   "name": "python",
   "nbconvert_exporter": "python",
   "pygments_lexer": "ipython3",
   "version": "3.6.7"
  }
 },
 "nbformat": 4,
 "nbformat_minor": 2
}
