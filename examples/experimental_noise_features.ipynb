{
 "cells": [
  {
   "cell_type": "markdown",
   "metadata": {},
   "source": [
    "# Experimental Noise Features\n",
    "\n",
    "* *Author*: Christopher J. Wood (cjwood@us.ibm.com)\n",
    "* *Last Updated*: December 10, 2018"
   ]
  },
  {
   "cell_type": "markdown",
   "metadata": {},
   "source": [
    "This notebook shows how to use some experimental noise features. These are experimental as they are not officially supported through the Qiskit-Terra API yet and involve manually editing a compiled qobj. As such they may change or break in future releases."
   ]
  },
  {
   "cell_type": "code",
   "execution_count": 1,
   "metadata": {},
   "outputs": [],
   "source": [
    "import numpy as np\n",
    "\n",
    "# Import Terra\n",
    "import qiskit\n",
    "from qiskit import QuantumCircuit, QuantumRegister, ClassicalRegister\n",
    "from qiskit.tools.visualization import plot_histogram\n",
    "\n",
    "# Import Aer backends\n",
    "from qiskit_aer import Aer\n",
    "from qiskit_aer.noise import NoiseModel\n",
    "from qiskit_aer.noise.errors import amplitude_damping_error\n",
    "from qiskit_aer.utils import qobj_utils\n",
    "from qiskit_aer.utils.qobj_utils import qobj_get_item_positions\n",
    "from qiskit_aer.utils.qobj_utils import qobj_insert_item\n",
    "from qiskit_aer.utils.qobj_utils import qobj_unitary_item"
   ]
  },
  {
   "cell_type": "markdown",
   "metadata": {},
   "source": [
    "## Adding noise to a custom unitary gate\n",
    "\n",
    "In this example we show how to add a noise model based on a custom unitary gate. For our example we will add noise on an iSWAP gate which is defined as follows:"
   ]
  },
  {
   "cell_type": "code",
   "execution_count": 2,
   "metadata": {},
   "outputs": [],
   "source": [
    "ISWAP = np.array([[1, 0, 0, 0],\n",
    "                  [0, 0, 1j, 0],\n",
    "                  [0, 1j, 0, 0],\n",
    "                  [0, 0, 0, 1]])"
   ]
  },
  {
   "cell_type": "markdown",
   "metadata": {},
   "source": [
    "### CNOT circuit in terms of iSWAP gates"
   ]
  },
  {
   "cell_type": "markdown",
   "metadata": {},
   "source": [
    "Our test circuit will be the decomposition of a Controlled-NOT gate in terms of two iSWAP gates and single qubit rotations. The circuit is given as follows where we have placed barrier objects where the iSWAP gate should be"
   ]
  },
  {
   "cell_type": "code",
   "execution_count": 3,
   "metadata": {
    "scrolled": true
   },
   "outputs": [
    {
     "name": "stdout",
     "output_type": "stream",
     "text": [
      "NOTE: iSWAP gates should be inserted at barrier positions\n",
      "         ┌─────┐┌───┐        ░                     ░ ┌───┐\n",
      "qr_1: |0>┤ Sdg ├┤ H ├────────░─────────────────────░─┤ S ├\n",
      "         └─────┘└───┘┌─────┐ ░ ┌─────┐┌───┐┌─────┐ ░ └───┘\n",
      "qr_0: |0>────────────┤ Sdg ├─░─┤ Sdg ├┤ H ├┤ Sdg ├─░──────\n",
      "                     └─────┘ ░ └─────┘└───┘└─────┘ ░      \n",
      " cr_1: 0 ═════════════════════════════════════════════════\n",
      "                                                          \n",
      " cr_0: 0 ═════════════════════════════════════════════════\n",
      "                                                          \n"
     ]
    }
   ],
   "source": [
    "qr = QuantumRegister(2, 'qr')\n",
    "cr = ClassicalRegister(2, 'cr')\n",
    "cx_circ = QuantumCircuit(qr, cr)\n",
    "\n",
    "# CNOT Circuit where iSWAP gates should be inserted at barrier locations\n",
    "cx_circ.sdg(qr[1])\n",
    "cx_circ.h(qr[1])\n",
    "cx_circ.sdg(qr[0])\n",
    "cx_circ.barrier(qr)  # Place iSWAP here\n",
    "cx_circ.sdg(qr[0])\n",
    "cx_circ.h(qr[0])\n",
    "cx_circ.sdg(qr[0])\n",
    "cx_circ.barrier(qr)  # Place iSWAP here\n",
    "cx_circ.s(qr[1])\n",
    "\n",
    "print(\"NOTE: iSWAP gates should be inserted at barrier positions\")\n",
    "print(cx_circ)"
   ]
  },
  {
   "cell_type": "markdown",
   "metadata": {},
   "source": [
    "We write a helper function using the experimental `qobj_utils` module to insert iSWAP gates after barrier operations. The label string for this unitary is given as `\"iswap\"` which can be used later for assigning a noise model to this gate"
   ]
  },
  {
   "cell_type": "code",
   "execution_count": 4,
   "metadata": {},
   "outputs": [],
   "source": [
    "def add_iswap_after_barrier(qobj):\n",
    "    item = qobj_unitary_item(ISWAP, [0, 1], 'iswap')\n",
    "    for pos in sorted(qobj_get_item_positions(qobj, 0, 'barrier'), reverse=True):\n",
    "        qobj_insert_item(qobj, 0, item, pos)\n",
    "    return qobj\n",
    "\n",
    "simulator = Aer.get_backend('unitary_simulator')\n",
    "qobj = qiskit.compile(cx_circ, simulator, shots=1)\n",
    "qobj = add_iswap_after_barrier(qobj)"
   ]
  },
  {
   "cell_type": "markdown",
   "metadata": {},
   "source": [
    "### Verifying circuit on the Aer unitary simulator\n",
    "\n",
    "Next we will execute the circuit on the Aer unitary simulator to verify our qobj implements a Controlled-NOT gate in the ideal (no noise) case"
   ]
  },
  {
   "cell_type": "code",
   "execution_count": 5,
   "metadata": {},
   "outputs": [
    {
     "name": "stdout",
     "output_type": "stream",
     "text": [
      "Circuit unitary:\n",
      "[[1.+0.j 0.+0.j 0.+0.j 0.+0.j]\n",
      " [0.+0.j 0.+0.j 0.+0.j 1.+0.j]\n",
      " [0.+0.j 0.+0.j 1.+0.j 0.+0.j]\n",
      " [0.+0.j 1.+0.j 0.+0.j 0.+0.j]]\n"
     ]
    }
   ],
   "source": [
    "simulator = Aer.get_backend('unitary_simulator')\n",
    "result = simulator.run(qobj).result()\n",
    "unitary = result.get_unitary(cx_circ).round(5)\n",
    "print(\"Circuit unitary:\")\n",
    "print(unitary)"
   ]
  },
  {
   "cell_type": "markdown",
   "metadata": {},
   "source": [
    "### Bell state preparation circuit in terms of iSWAP gate\n",
    "\n",
    "Now we will use our iSWAP CNOT circuit to prepare an entangled state"
   ]
  },
  {
   "cell_type": "code",
   "execution_count": 6,
   "metadata": {},
   "outputs": [
    {
     "name": "stdout",
     "output_type": "stream",
     "text": [
      "Bell preparation circuit: iSWAPS should be inserted at barrier positions\n",
      "         ┌─────┐┌───┐             ░                     ░    ┌───┐┌─┐\n",
      "qr_1: |0>┤ Sdg ├┤ H ├─────────────░─────────────────────░────┤ S ├┤M├\n",
      "         └─────┘└───┘┌───┐┌─────┐ ░ ┌─────┐┌───┐┌─────┐ ░ ┌─┐└───┘└╥┘\n",
      "qr_0: |0>────────────┤ H ├┤ Sdg ├─░─┤ Sdg ├┤ H ├┤ Sdg ├─░─┤M├──────╫─\n",
      "                     └───┘└─────┘ ░ └─────┘└───┘└─────┘ ░ └╥┘      ║ \n",
      " cr_1: 0 ══════════════════════════════════════════════════╬═══════╩═\n",
      "                                                           ║         \n",
      " cr_0: 0 ══════════════════════════════════════════════════╩═════════\n",
      "                                                                     \n"
     ]
    }
   ],
   "source": [
    "# Bell state circuit where iSWAPS should be inserted at barrier locations\n",
    "bell_circ = QuantumCircuit(qr, cr)\n",
    "bell_circ.h(qr[0])\n",
    "bell_circ = bell_circ + cx_circ \n",
    "bell_circ.measure(qr, cr)\n",
    "print(\"Bell preparation circuit: iSWAPS should be inserted at barrier positions\")\n",
    "print(bell_circ)"
   ]
  },
  {
   "cell_type": "markdown",
   "metadata": {},
   "source": [
    "Again we must add iSWAP gates back into the compiled qobj for execution on the Aer Qasm simulator"
   ]
  },
  {
   "cell_type": "code",
   "execution_count": 7,
   "metadata": {},
   "outputs": [],
   "source": [
    "# Add iSWAP to compiled qobj\n",
    "simulator = Aer.get_backend('qasm_simulator')\n",
    "qobj = qiskit.compile(bell_circ, simulator, shots=1000)\n",
    "qobj = add_iswap_after_barrier(qobj)"
   ]
  },
  {
   "cell_type": "markdown",
   "metadata": {},
   "source": [
    "### Ideal output"
   ]
  },
  {
   "cell_type": "code",
   "execution_count": 8,
   "metadata": {},
   "outputs": [
    {
     "data": {
      "image/png": "[encoded data removed]",
      "text/plain": [
       "<matplotlib.figure.Figure at 0x150e4ac278>"
      ]
     },
     "execution_count": 8,
     "metadata": {},
     "output_type": "execute_result"
    }
   ],
   "source": [
    "# Ideal circuit execution\n",
    "result = simulator.run(qobj).result()\n",
    "counts = result.get_counts(bell_circ)\n",
    "plot_histogram(counts)"
   ]
  },
  {
   "cell_type": "markdown",
   "metadata": {},
   "source": [
    "## Adding noise to a custom gate\n",
    "\n",
    "Next we will add a noise model to the iSWAP gate using its string label `\"iswap\"`. We add an error term consisting of single qubit amplitude damping channels with different parameters on each of the two qubits participating in the iSWAP gate"
   ]
  },
  {
   "cell_type": "code",
   "execution_count": 9,
   "metadata": {},
   "outputs": [],
   "source": [
    "# Two-qubit amplitude damping error parameters\n",
    "param_iswap_q0 = 0.05\n",
    "param_iswap_q1 = 0.1\n",
    "p_state1 = 0.03\n",
    "\n",
    "# Construct the error\n",
    "err_q0 = amplitude_damping_error(param_iswap_q0, excited_state_population=p_state1)\n",
    "err_q1 = amplitude_damping_error(param_iswap_q1, excited_state_population=p_state1)\n",
    "iswap_error = err_q1.kron(err_q0)\n",
    "\n",
    "# Build the noise model by adding the error to the \"iswap\" gate\n",
    "noise_model = NoiseModel()\n",
    "noise_model.add_all_qubit_quantum_error(iswap_error, 'iswap')"
   ]
  },
  {
   "cell_type": "markdown",
   "metadata": {},
   "source": [
    "### Noisy circuit execution"
   ]
  },
  {
   "cell_type": "code",
   "execution_count": 10,
   "metadata": {},
   "outputs": [
    {
     "data": {
      "image/png": "[encoded data removed]",
      "text/plain": [
       "<matplotlib.figure.Figure at 0x150e42bf98>"
      ]
     },
     "execution_count": 10,
     "metadata": {},
     "output_type": "execute_result"
    }
   ],
   "source": [
    "result_noise = simulator.run(qobj, noise_model=noise_model).result()\n",
    "counts_noise = result_noise.get_counts(bell_circ)\n",
    "plot_histogram(counts_noise)"
   ]
  }
 ],
 "metadata": {
  "kernelspec": {
   "display_name": "Python (qiskit-dev)",
   "language": "python",
   "name": "qiskit-dev"
  },
  "language_info": {
   "codemirror_mode": {
    "name": "ipython",
    "version": 3
   },
   "file_extension": ".py",
   "mimetype": "text/x-python",
   "name": "python",
   "nbconvert_exporter": "python",
   "pygments_lexer": "ipython3",
   "version": "3.6.7"
  }
 },
 "nbformat": 4,
 "nbformat_minor": 2
}
