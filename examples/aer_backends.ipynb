{
 "cells": [
  {
   "cell_type": "markdown",
   "metadata": {},
   "source": [
    "# Qiskit Aer Backends\n",
    "\n",
    "* *Author*: Christopher J. Wood (cjwood@us.ibm.com)\n",
    "* *Last Updated*: December 10, 2018"
   ]
  },
  {
   "cell_type": "code",
   "execution_count": 1,
   "metadata": {},
   "outputs": [],
   "source": [
    "import numpy as np\n",
    "\n",
    "# Import Terra\n",
    "import qiskit\n",
    "from qiskit import QuantumCircuit, QuantumRegister, ClassicalRegister\n",
    "\n",
    "# Import Aer backends\n",
    "from qiskit_aer import Aer"
   ]
  },
  {
   "cell_type": "markdown",
   "metadata": {},
   "source": [
    "This notebook shows how to import Qiskit Aer simulators and use them as backends for Qiskit Terra.\n",
    "\n",
    "Currently Qiskit Aer includes three simulator backends:\n",
    "* **QasmSimulator**: allows ideal and noisy multi-shot execution of qiskit circuits and returns counts or memory\n",
    "* **StatevectorSimulator**: allows ideal single-shot execution of qiskit circuits and returns the final statevector of the simulator after application\n",
    "* **UnitarySimulator**: allows ideal single-shot execution of qiskit circuits and returns the final unitary matrix of the circuit itself. Note that the circuit cannot contain measure or reset operations for this backend\n",
    "\n",
    "These backends are found in the `Aer` provider with the names `qasm_simulstor`, `statevector_simulator` and `unitary_simulator` respectively"
   ]
  },
  {
   "cell_type": "code",
   "execution_count": 2,
   "metadata": {},
   "outputs": [
    {
     "data": {
      "text/plain": [
       "[<QasmSimulator('qasm_simulator') from AerProvider()>,\n",
       " <StatevectorSimulator('statevector_simulator') from AerProvider()>,\n",
       " <UnitarySimulator('unitary_simulator') from AerProvider()>]"
      ]
     },
     "execution_count": 2,
     "metadata": {},
     "output_type": "execute_result"
    }
   ],
   "source": [
    "# List Aer backends\n",
    "Aer.backends()"
   ]
  },
  {
   "cell_type": "markdown",
   "metadata": {},
   "source": [
    "### Example circuits\n",
    "\n",
    "We will consider execution of the following example circuits which prepare an N-qubit entangled GHZ state either with or without final measurement at the end"
   ]
  },
  {
   "cell_type": "code",
   "execution_count": 3,
   "metadata": {},
   "outputs": [],
   "source": [
    "# Test circuits\n",
    "\n",
    "def ghz_circuit_nomeas(num_qubits):\n",
    "    qr = qiskit.QuantumRegister(num_qubits)\n",
    "    circ = qiskit.QuantumCircuit(qr)\n",
    "    circ.h(qr[0])\n",
    "    if num_qubits > 1:\n",
    "        for j in range(num_qubits - 1):\n",
    "            circ.cx(qr[j], qr[j + 1])\n",
    "    return circ\n",
    "\n",
    "def ghz_circuit_meas(num_qubits):\n",
    "    qr = qiskit.QuantumRegister(num_qubits)\n",
    "    cr = qiskit.ClassicalRegister(num_qubits)\n",
    "    circ = qiskit.QuantumCircuit(qr, cr)\n",
    "    circ.h(qr[0])\n",
    "    if num_qubits > 1:\n",
    "        for j in range(num_qubits - 1):\n",
    "            circ.cx(qr[j], qr[j + 1])\n",
    "    circ.barrier(qr)\n",
    "    circ.measure(qr, cr)\n",
    "    return circ"
   ]
  },
  {
   "cell_type": "markdown",
   "metadata": {},
   "source": [
    "## Qasm Simulator\n",
    "\n",
    "This Qasm simulator backend is designed to mimic an actual device. It executes a qiskit circuit and returns a count dictionary containing the final values of any classical registers in the circuit. The circuit may contain gates, measure, reset, or conditionals, and other advanced simulator options that will be discussed in another notebook."
   ]
  },
  {
   "cell_type": "code",
   "execution_count": 4,
   "metadata": {},
   "outputs": [
    {
     "data": {
      "text/plain": [
       "{'1111': 544, '0000': 480}"
      ]
     },
     "execution_count": 4,
     "metadata": {},
     "output_type": "execute_result"
    }
   ],
   "source": [
    "circ = ghz_circuit_meas(4)\n",
    "backend = Aer.get_backend('qasm_simulator')\n",
    "result = qiskit.execute(circ, backend).result()\n",
    "result.get_counts(circ)"
   ]
  },
  {
   "cell_type": "markdown",
   "metadata": {},
   "source": [
    "### Single shot measurements outcomes\n",
    "\n",
    "The Qasm simulator also supports returning a list of measurement outcomes for each individual shot. This is enabled by setting the `memory` kwarg to `True` in `compile` or `execute`."
   ]
  },
  {
   "cell_type": "code",
   "execution_count": 5,
   "metadata": {},
   "outputs": [
    {
     "data": {
      "text/plain": [
       "['1111',\n",
       " '0000',\n",
       " '0000',\n",
       " '0000',\n",
       " '1111',\n",
       " '0000',\n",
       " '1111',\n",
       " '0000',\n",
       " '1111',\n",
       " '1111']"
      ]
     },
     "execution_count": 5,
     "metadata": {},
     "output_type": "execute_result"
    }
   ],
   "source": [
    "circ = ghz_circuit_meas(4)\n",
    "backend = Aer.get_backend('qasm_simulator')\n",
    "qobj = qiskit.compile(circ, backend, shots=10, memory=True)\n",
    "result = backend.run(qobj).result()\n",
    "result.get_memory(circ)"
   ]
  },
  {
   "cell_type": "markdown",
   "metadata": {},
   "source": [
    "### Setting a custom initial state\n",
    "\n",
    "We may also set a custom initial statevector for the qasm simulator using the advanced `backend_options` kwarg for `execute` or `run`. The following example shows a trivial circuit (only containing measurement) but initializes the simulator in the Bell-state"
   ]
  },
  {
   "cell_type": "code",
   "execution_count": 6,
   "metadata": {},
   "outputs": [
    {
     "data": {
      "text/plain": [
       "{'11': 554, '00': 470}"
      ]
     },
     "execution_count": 6,
     "metadata": {},
     "output_type": "execute_result"
    }
   ],
   "source": [
    "qr = qiskit.QuantumRegister(2)\n",
    "cr = qiskit.ClassicalRegister(2)\n",
    "circ = qiskit.QuantumCircuit(qr, cr)\n",
    "circ.measure(qr, cr)\n",
    "backend = Aer.get_backend('qasm_simulator')\n",
    "qobj = qiskit.compile(circ, backend)\n",
    "opts = {\"initial_statevector\": np.array([1, 0, 0, 1] / np.sqrt(2))}\n",
    "result = backend.run(qobj, backend_options=opts).result()\n",
    "result.get_counts(circ)"
   ]
  },
  {
   "cell_type": "markdown",
   "metadata": {},
   "source": [
    "## Statevector simulator\n",
    "\n",
    "The statevector simulator returns the final statevector after applying a quantum circuit to an initial state. By default this initial state is all qubits in $|0\\rangle$, but it can be changed using the `\"initial_statevector\"` `backend_option` as with the Qasm simulator.\n",
    "\n",
    "The following circuit shows the final statevector after preparing a 4-qubit GHZ state"
   ]
  },
  {
   "cell_type": "code",
   "execution_count": 7,
   "metadata": {},
   "outputs": [
    {
     "data": {
      "text/plain": [
       "array([0.70710678+0.j, 0.        +0.j, 0.        +0.j, 0.        +0.j,\n",
       "       0.        +0.j, 0.        +0.j, 0.        +0.j, 0.        +0.j,\n",
       "       0.        +0.j, 0.        +0.j, 0.        +0.j, 0.        +0.j,\n",
       "       0.        +0.j, 0.        +0.j, 0.        +0.j, 0.70710678+0.j])"
      ]
     },
     "execution_count": 7,
     "metadata": {},
     "output_type": "execute_result"
    }
   ],
   "source": [
    "circ = ghz_circuit_nomeas(4)\n",
    "backend = Aer.get_backend('statevector_simulator')\n",
    "result = qiskit.execute(circ, backend).result()\n",
    "result.get_statevector(circ)"
   ]
  },
  {
   "cell_type": "markdown",
   "metadata": {},
   "source": [
    "Note that we used a circuit containing no measure operations. If a circuit contains measure or reset options the final statevector will be a conditional state after collapse from the measurement. For example if we consider the 4-qubit GHZ circuit with measurement the final state will be either $|0000\\rangle$ *or* $|1111\\rangle$"
   ]
  },
  {
   "cell_type": "code",
   "execution_count": 8,
   "metadata": {},
   "outputs": [
    {
     "data": {
      "text/plain": [
       "array([1.+0.j, 0.+0.j, 0.+0.j, 0.+0.j, 0.+0.j, 0.+0.j, 0.+0.j, 0.+0.j,\n",
       "       0.+0.j, 0.+0.j, 0.+0.j, 0.+0.j, 0.+0.j, 0.+0.j, 0.+0.j, 0.+0.j])"
      ]
     },
     "execution_count": 8,
     "metadata": {},
     "output_type": "execute_result"
    }
   ],
   "source": [
    "circ = ghz_circuit_meas(4)\n",
    "backend = Aer.get_backend('statevector_simulator')\n",
    "result = qiskit.execute(circ, backend).result()\n",
    "result.get_statevector(circ)"
   ]
  },
  {
   "cell_type": "markdown",
   "metadata": {},
   "source": [
    "### Setting a custom initial state\n",
    "\n",
    "We may set a custom initial statevector the same way as we do for the Qasm simulator. Here we prepare a Bell-state for a trivial circuit containing only an identity gate"
   ]
  },
  {
   "cell_type": "code",
   "execution_count": 9,
   "metadata": {},
   "outputs": [
    {
     "data": {
      "text/plain": [
       "array([0.70710678+0.j, 0.        +0.j, 0.        +0.j, 0.70710678+0.j])"
      ]
     },
     "execution_count": 9,
     "metadata": {},
     "output_type": "execute_result"
    }
   ],
   "source": [
    "qr = qiskit.QuantumRegister(2)\n",
    "circ = qiskit.QuantumCircuit(qr)\n",
    "circ.iden(qr)\n",
    "backend = Aer.get_backend('statevector_simulator')\n",
    "qobj = qiskit.compile(circ, backend)\n",
    "opts = {\"initial_statevector\": np.array([1, 0, 0, 1] / np.sqrt(2))}\n",
    "result = backend.run(qobj, backend_options=opts).result()\n",
    "result.get_statevector(circ)"
   ]
  },
  {
   "cell_type": "markdown",
   "metadata": {},
   "source": [
    "## Unitary Simulator\n",
    "\n",
    "The unitary simulator comutes the unitary matrix for a given quantum circuit by applying each gate to an initial identity matrix. The circuit cannot contain measure or reset operations.\n",
    "\n",
    "The following example shows the unitary corresponding to a Bell-state preparation circuit"
   ]
  },
  {
   "cell_type": "code",
   "execution_count": 10,
   "metadata": {},
   "outputs": [
    {
     "data": {
      "text/plain": [
       "array([[ 0.70710678+0.j,  0.70710678+0.j,  0.        +0.j,\n",
       "         0.        +0.j],\n",
       "       [ 0.        +0.j,  0.        +0.j,  0.70710678+0.j,\n",
       "        -0.70710678+0.j],\n",
       "       [ 0.        +0.j,  0.        +0.j,  0.70710678+0.j,\n",
       "         0.70710678+0.j],\n",
       "       [ 0.70710678+0.j, -0.70710678+0.j,  0.        +0.j,\n",
       "         0.        +0.j]])"
      ]
     },
     "execution_count": 10,
     "metadata": {},
     "output_type": "execute_result"
    }
   ],
   "source": [
    "circ = ghz_circuit_nomeas(2)\n",
    "backend = Aer.get_backend('unitary_simulator')\n",
    "result = qiskit.execute(circ, backend).result()\n",
    "result.get_unitary(circ)"
   ]
  },
  {
   "cell_type": "markdown",
   "metadata": {},
   "source": [
    "### Setting a custom initial unitary\n",
    "\n",
    "We may also set a custom initial unitary matrix for the Unitary simulator if we wish to start with a unitary matrix different to the identity matrix. This is done using the `\"initial_unitary\"` field in the `backend_options`. In the following we state the Unitary simulator as a Pauli-X matrix rather than an identity and apply an empty circuit"
   ]
  },
  {
   "cell_type": "code",
   "execution_count": 11,
   "metadata": {},
   "outputs": [
    {
     "data": {
      "text/plain": [
       "array([[0.+0.j, 1.+0.j],\n",
       "       [1.+0.j, 0.+0.j]])"
      ]
     },
     "execution_count": 11,
     "metadata": {},
     "output_type": "execute_result"
    }
   ],
   "source": [
    "qr = qiskit.QuantumRegister(1)\n",
    "circ = qiskit.QuantumCircuit(qr)\n",
    "circ.iden(qr)\n",
    "backend = Aer.get_backend('unitary_simulator')\n",
    "qobj = qiskit.compile(circ, backend)\n",
    "opts = {\"initial_unitary\": np.array([[0, 1], [1, 0]], dtype=complex)}\n",
    "result = backend.run(qobj, backend_options=opts).result()\n",
    "result.get_unitary(circ)\n"
   ]
  }
 ],
 "metadata": {
  "kernelspec": {
   "display_name": "Python (qiskit-dev)",
   "language": "python",
   "name": "qiskit-dev"
  },
  "language_info": {
   "codemirror_mode": {
    "name": "ipython",
    "version": 3
   },
   "file_extension": ".py",
   "mimetype": "text/x-python",
   "name": "python",
   "nbconvert_exporter": "python",
   "pygments_lexer": "ipython3",
   "version": "3.6.7"
  }
 },
 "nbformat": 4,
 "nbformat_minor": 2
}
